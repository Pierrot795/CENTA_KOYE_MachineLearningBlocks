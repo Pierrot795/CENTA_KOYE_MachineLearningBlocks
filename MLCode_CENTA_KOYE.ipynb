{
  "nbformat": 4,
  "nbformat_minor": 0,
  "metadata": {
    "kernelspec": {
      "name": "python3",
      "display_name": "Python 3.9.0 64-bit",
      "metadata": {
        "interpreter": {
          "hash": "63fd5069d213b44bf678585dea6b12cceca9941eaf7f819626cde1f2670de90d"
        }
      }
    },
    "language_info": {
      "codemirror_mode": {
        "name": "ipython",
        "version": 3
      },
      "file_extension": ".py",
      "mimetype": "text/x-python",
      "name": "python",
      "nbconvert_exporter": "python",
      "pygments_lexer": "ipython3",
      "version": "3.9.0-final"
    },
    "colab": {
      "name": "data_arrangement_version_Pierre.ipynb",
      "provenance": [],
      "collapsed_sections": [],
      "toc_visible": true
    }
  },
  "cells": [
    {
      "cell_type": "code",
      "metadata": {
        "id": "TOMoirqbD8Ih"
      },
      "source": [
        "import pandas as pd\n",
        "import csv"
      ],
      "execution_count": 1,
      "outputs": []
    },
    {
      "cell_type": "markdown",
      "metadata": {
        "id": "dD-pyB_FD8Im"
      },
      "source": [
        "# Re-arrange the Dataset"
      ]
    },
    {
      "cell_type": "code",
      "metadata": {
        "colab": {
          "base_uri": "https://localhost:8080/",
          "height": 402
        },
        "id": "iz72fR6tD8In",
        "outputId": "c1dc994d-27e7-4735-cdb5-59f60153efb5"
      },
      "source": [
        "df = pd.read_csv(\"page-blocks.data\",sep=\",\",header=None)\n",
        "\n",
        "column = ['height', 'length', 'area', 'eccen', 'p_black', 'p_and', 'mean_tr', 'blackpix', 'blackand', 'wb_trans','target']\n",
        "df"
      ],
      "execution_count": 3,
      "outputs": [
        {
          "output_type": "execute_result",
          "data": {
            "text/plain": [
              "                                                      0\n",
              "0        5   7     35  1.400 .400 .657     2.33     ...\n",
              "1        6   7     42  1.167 .429 .881     3.60     ...\n",
              "2        6  18    108  3.000 .287 .741     4.43     ...\n",
              "3        5   7     35  1.400 .371 .743     4.33     ...\n",
              "4        6   3     18   .500 .500 .944     2.25     ...\n",
              "...                                                 ...\n",
              "5468     4 524   2096 131.00 .542 .603    40.57   11...\n",
              "5469     7   4     28   .571 .714 .929    10.00     ...\n",
              "5470     6  95    570 15.833 .300 .911     1.64    1...\n",
              "5471     7  41    287  5.857 .213 .801     1.36     ...\n",
              "5472     8   1      8   .125 1.00 1.00     8.00     ...\n",
              "\n",
              "[5473 rows x 1 columns]"
            ],
            "text/html": "<div>\n<style scoped>\n    .dataframe tbody tr th:only-of-type {\n        vertical-align: middle;\n    }\n\n    .dataframe tbody tr th {\n        vertical-align: top;\n    }\n\n    .dataframe thead th {\n        text-align: right;\n    }\n</style>\n<table border=\"1\" class=\"dataframe\">\n  <thead>\n    <tr style=\"text-align: right;\">\n      <th></th>\n      <th>0</th>\n    </tr>\n  </thead>\n  <tbody>\n    <tr>\n      <th>0</th>\n      <td>5   7     35  1.400 .400 .657     2.33     ...</td>\n    </tr>\n    <tr>\n      <th>1</th>\n      <td>6   7     42  1.167 .429 .881     3.60     ...</td>\n    </tr>\n    <tr>\n      <th>2</th>\n      <td>6  18    108  3.000 .287 .741     4.43     ...</td>\n    </tr>\n    <tr>\n      <th>3</th>\n      <td>5   7     35  1.400 .371 .743     4.33     ...</td>\n    </tr>\n    <tr>\n      <th>4</th>\n      <td>6   3     18   .500 .500 .944     2.25     ...</td>\n    </tr>\n    <tr>\n      <th>...</th>\n      <td>...</td>\n    </tr>\n    <tr>\n      <th>5468</th>\n      <td>4 524   2096 131.00 .542 .603    40.57   11...</td>\n    </tr>\n    <tr>\n      <th>5469</th>\n      <td>7   4     28   .571 .714 .929    10.00     ...</td>\n    </tr>\n    <tr>\n      <th>5470</th>\n      <td>6  95    570 15.833 .300 .911     1.64    1...</td>\n    </tr>\n    <tr>\n      <th>5471</th>\n      <td>7  41    287  5.857 .213 .801     1.36     ...</td>\n    </tr>\n    <tr>\n      <th>5472</th>\n      <td>8   1      8   .125 1.00 1.00     8.00     ...</td>\n    </tr>\n  </tbody>\n</table>\n<p>5473 rows × 1 columns</p>\n</div>"
          },
          "metadata": {},
          "execution_count": 3
        }
      ]
    },
    {
      "cell_type": "code",
      "metadata": {
        "colab": {
          "base_uri": "https://localhost:8080/",
          "height": 402
        },
        "id": "2_VVYVAID8Io",
        "outputId": "0b9c384d-5265-4717-94f7-ba2828b15317"
      },
      "source": [
        "\n",
        "a = df.iloc[:,0].str.split(expand=True)\n",
        "a\n"
      ],
      "execution_count": 4,
      "outputs": [
        {
          "output_type": "execute_result",
          "data": {
            "text/plain": [
              "     0    1     2       3     4     5      6     7     8    9  10\n",
              "0     5    7    35   1.400  .400  .657   2.33    14    23    6  1\n",
              "1     6    7    42   1.167  .429  .881   3.60    18    37    5  1\n",
              "2     6   18   108   3.000  .287  .741   4.43    31    80    7  1\n",
              "3     5    7    35   1.400  .371  .743   4.33    13    26    3  1\n",
              "4     6    3    18    .500  .500  .944   2.25     9    17    4  1\n",
              "...  ..  ...   ...     ...   ...   ...    ...   ...   ...  ... ..\n",
              "5468  4  524  2096  131.00  .542  .603  40.57  1136  1264   28  2\n",
              "5469  7    4    28    .571  .714  .929  10.00    20    26    2  1\n",
              "5470  6   95   570  15.833  .300  .911   1.64   171   519  104  1\n",
              "5471  7   41   287   5.857  .213  .801   1.36    61   230   45  1\n",
              "5472  8    1     8    .125   1.0   1.0   8.00     8     8    1  4\n",
              "\n",
              "[5473 rows x 11 columns]"
            ],
            "text/html": "<div>\n<style scoped>\n    .dataframe tbody tr th:only-of-type {\n        vertical-align: middle;\n    }\n\n    .dataframe tbody tr th {\n        vertical-align: top;\n    }\n\n    .dataframe thead th {\n        text-align: right;\n    }\n</style>\n<table border=\"1\" class=\"dataframe\">\n  <thead>\n    <tr style=\"text-align: right;\">\n      <th></th>\n      <th>0</th>\n      <th>1</th>\n      <th>2</th>\n      <th>3</th>\n      <th>4</th>\n      <th>5</th>\n      <th>6</th>\n      <th>7</th>\n      <th>8</th>\n      <th>9</th>\n      <th>10</th>\n    </tr>\n  </thead>\n  <tbody>\n    <tr>\n      <th>0</th>\n      <td>5</td>\n      <td>7</td>\n      <td>35</td>\n      <td>1.400</td>\n      <td>.400</td>\n      <td>.657</td>\n      <td>2.33</td>\n      <td>14</td>\n      <td>23</td>\n      <td>6</td>\n      <td>1</td>\n    </tr>\n    <tr>\n      <th>1</th>\n      <td>6</td>\n      <td>7</td>\n      <td>42</td>\n      <td>1.167</td>\n      <td>.429</td>\n      <td>.881</td>\n      <td>3.60</td>\n      <td>18</td>\n      <td>37</td>\n      <td>5</td>\n      <td>1</td>\n    </tr>\n    <tr>\n      <th>2</th>\n      <td>6</td>\n      <td>18</td>\n      <td>108</td>\n      <td>3.000</td>\n      <td>.287</td>\n      <td>.741</td>\n      <td>4.43</td>\n      <td>31</td>\n      <td>80</td>\n      <td>7</td>\n      <td>1</td>\n    </tr>\n    <tr>\n      <th>3</th>\n      <td>5</td>\n      <td>7</td>\n      <td>35</td>\n      <td>1.400</td>\n      <td>.371</td>\n      <td>.743</td>\n      <td>4.33</td>\n      <td>13</td>\n      <td>26</td>\n      <td>3</td>\n      <td>1</td>\n    </tr>\n    <tr>\n      <th>4</th>\n      <td>6</td>\n      <td>3</td>\n      <td>18</td>\n      <td>.500</td>\n      <td>.500</td>\n      <td>.944</td>\n      <td>2.25</td>\n      <td>9</td>\n      <td>17</td>\n      <td>4</td>\n      <td>1</td>\n    </tr>\n    <tr>\n      <th>...</th>\n      <td>...</td>\n      <td>...</td>\n      <td>...</td>\n      <td>...</td>\n      <td>...</td>\n      <td>...</td>\n      <td>...</td>\n      <td>...</td>\n      <td>...</td>\n      <td>...</td>\n      <td>...</td>\n    </tr>\n    <tr>\n      <th>5468</th>\n      <td>4</td>\n      <td>524</td>\n      <td>2096</td>\n      <td>131.00</td>\n      <td>.542</td>\n      <td>.603</td>\n      <td>40.57</td>\n      <td>1136</td>\n      <td>1264</td>\n      <td>28</td>\n      <td>2</td>\n    </tr>\n    <tr>\n      <th>5469</th>\n      <td>7</td>\n      <td>4</td>\n      <td>28</td>\n      <td>.571</td>\n      <td>.714</td>\n      <td>.929</td>\n      <td>10.00</td>\n      <td>20</td>\n      <td>26</td>\n      <td>2</td>\n      <td>1</td>\n    </tr>\n    <tr>\n      <th>5470</th>\n      <td>6</td>\n      <td>95</td>\n      <td>570</td>\n      <td>15.833</td>\n      <td>.300</td>\n      <td>.911</td>\n      <td>1.64</td>\n      <td>171</td>\n      <td>519</td>\n      <td>104</td>\n      <td>1</td>\n    </tr>\n    <tr>\n      <th>5471</th>\n      <td>7</td>\n      <td>41</td>\n      <td>287</td>\n      <td>5.857</td>\n      <td>.213</td>\n      <td>.801</td>\n      <td>1.36</td>\n      <td>61</td>\n      <td>230</td>\n      <td>45</td>\n      <td>1</td>\n    </tr>\n    <tr>\n      <th>5472</th>\n      <td>8</td>\n      <td>1</td>\n      <td>8</td>\n      <td>.125</td>\n      <td>1.0</td>\n      <td>1.0</td>\n      <td>8.00</td>\n      <td>8</td>\n      <td>8</td>\n      <td>1</td>\n      <td>4</td>\n    </tr>\n  </tbody>\n</table>\n<p>5473 rows × 11 columns</p>\n</div>"
          },
          "metadata": {},
          "execution_count": 4
        }
      ]
    },
    {
      "cell_type": "code",
      "metadata": {
        "scrolled": true,
        "colab": {
          "base_uri": "https://localhost:8080/",
          "height": 402
        },
        "id": "WuQQIzt1D8Io",
        "outputId": "ce3908ad-1a3d-4dc3-a994-102f08bd1b1a"
      },
      "source": [
        "a.columns = column\n",
        "a"
      ],
      "execution_count": 5,
      "outputs": [
        {
          "output_type": "execute_result",
          "data": {
            "text/plain": [
              "     height length  area   eccen p_black p_and mean_tr blackpix blackand  \\\n",
              "0         5      7    35   1.400    .400  .657    2.33       14       23   \n",
              "1         6      7    42   1.167    .429  .881    3.60       18       37   \n",
              "2         6     18   108   3.000    .287  .741    4.43       31       80   \n",
              "3         5      7    35   1.400    .371  .743    4.33       13       26   \n",
              "4         6      3    18    .500    .500  .944    2.25        9       17   \n",
              "...     ...    ...   ...     ...     ...   ...     ...      ...      ...   \n",
              "5468      4    524  2096  131.00    .542  .603   40.57     1136     1264   \n",
              "5469      7      4    28    .571    .714  .929   10.00       20       26   \n",
              "5470      6     95   570  15.833    .300  .911    1.64      171      519   \n",
              "5471      7     41   287   5.857    .213  .801    1.36       61      230   \n",
              "5472      8      1     8    .125     1.0   1.0    8.00        8        8   \n",
              "\n",
              "     wb_trans target  \n",
              "0           6      1  \n",
              "1           5      1  \n",
              "2           7      1  \n",
              "3           3      1  \n",
              "4           4      1  \n",
              "...       ...    ...  \n",
              "5468       28      2  \n",
              "5469        2      1  \n",
              "5470      104      1  \n",
              "5471       45      1  \n",
              "5472        1      4  \n",
              "\n",
              "[5473 rows x 11 columns]"
            ],
            "text/html": "<div>\n<style scoped>\n    .dataframe tbody tr th:only-of-type {\n        vertical-align: middle;\n    }\n\n    .dataframe tbody tr th {\n        vertical-align: top;\n    }\n\n    .dataframe thead th {\n        text-align: right;\n    }\n</style>\n<table border=\"1\" class=\"dataframe\">\n  <thead>\n    <tr style=\"text-align: right;\">\n      <th></th>\n      <th>height</th>\n      <th>length</th>\n      <th>area</th>\n      <th>eccen</th>\n      <th>p_black</th>\n      <th>p_and</th>\n      <th>mean_tr</th>\n      <th>blackpix</th>\n      <th>blackand</th>\n      <th>wb_trans</th>\n      <th>target</th>\n    </tr>\n  </thead>\n  <tbody>\n    <tr>\n      <th>0</th>\n      <td>5</td>\n      <td>7</td>\n      <td>35</td>\n      <td>1.400</td>\n      <td>.400</td>\n      <td>.657</td>\n      <td>2.33</td>\n      <td>14</td>\n      <td>23</td>\n      <td>6</td>\n      <td>1</td>\n    </tr>\n    <tr>\n      <th>1</th>\n      <td>6</td>\n      <td>7</td>\n      <td>42</td>\n      <td>1.167</td>\n      <td>.429</td>\n      <td>.881</td>\n      <td>3.60</td>\n      <td>18</td>\n      <td>37</td>\n      <td>5</td>\n      <td>1</td>\n    </tr>\n    <tr>\n      <th>2</th>\n      <td>6</td>\n      <td>18</td>\n      <td>108</td>\n      <td>3.000</td>\n      <td>.287</td>\n      <td>.741</td>\n      <td>4.43</td>\n      <td>31</td>\n      <td>80</td>\n      <td>7</td>\n      <td>1</td>\n    </tr>\n    <tr>\n      <th>3</th>\n      <td>5</td>\n      <td>7</td>\n      <td>35</td>\n      <td>1.400</td>\n      <td>.371</td>\n      <td>.743</td>\n      <td>4.33</td>\n      <td>13</td>\n      <td>26</td>\n      <td>3</td>\n      <td>1</td>\n    </tr>\n    <tr>\n      <th>4</th>\n      <td>6</td>\n      <td>3</td>\n      <td>18</td>\n      <td>.500</td>\n      <td>.500</td>\n      <td>.944</td>\n      <td>2.25</td>\n      <td>9</td>\n      <td>17</td>\n      <td>4</td>\n      <td>1</td>\n    </tr>\n    <tr>\n      <th>...</th>\n      <td>...</td>\n      <td>...</td>\n      <td>...</td>\n      <td>...</td>\n      <td>...</td>\n      <td>...</td>\n      <td>...</td>\n      <td>...</td>\n      <td>...</td>\n      <td>...</td>\n      <td>...</td>\n    </tr>\n    <tr>\n      <th>5468</th>\n      <td>4</td>\n      <td>524</td>\n      <td>2096</td>\n      <td>131.00</td>\n      <td>.542</td>\n      <td>.603</td>\n      <td>40.57</td>\n      <td>1136</td>\n      <td>1264</td>\n      <td>28</td>\n      <td>2</td>\n    </tr>\n    <tr>\n      <th>5469</th>\n      <td>7</td>\n      <td>4</td>\n      <td>28</td>\n      <td>.571</td>\n      <td>.714</td>\n      <td>.929</td>\n      <td>10.00</td>\n      <td>20</td>\n      <td>26</td>\n      <td>2</td>\n      <td>1</td>\n    </tr>\n    <tr>\n      <th>5470</th>\n      <td>6</td>\n      <td>95</td>\n      <td>570</td>\n      <td>15.833</td>\n      <td>.300</td>\n      <td>.911</td>\n      <td>1.64</td>\n      <td>171</td>\n      <td>519</td>\n      <td>104</td>\n      <td>1</td>\n    </tr>\n    <tr>\n      <th>5471</th>\n      <td>7</td>\n      <td>41</td>\n      <td>287</td>\n      <td>5.857</td>\n      <td>.213</td>\n      <td>.801</td>\n      <td>1.36</td>\n      <td>61</td>\n      <td>230</td>\n      <td>45</td>\n      <td>1</td>\n    </tr>\n    <tr>\n      <th>5472</th>\n      <td>8</td>\n      <td>1</td>\n      <td>8</td>\n      <td>.125</td>\n      <td>1.0</td>\n      <td>1.0</td>\n      <td>8.00</td>\n      <td>8</td>\n      <td>8</td>\n      <td>1</td>\n      <td>4</td>\n    </tr>\n  </tbody>\n</table>\n<p>5473 rows × 11 columns</p>\n</div>"
          },
          "metadata": {},
          "execution_count": 5
        }
      ]
    },
    {
      "cell_type": "code",
      "metadata": {
        "id": "b2vp8uUVD8Ip"
      },
      "source": [
        "a.to_csv(r\"finaldataset.csv\", index =False)"
      ],
      "execution_count": 6,
      "outputs": []
    },
    {
      "cell_type": "markdown",
      "metadata": {
        "id": "EeTK219qD8Ip"
      },
      "source": [
        "height:   integer.         | Height of the block.\n",
        "   lenght:   integer.     | Length of the block. \n",
        "   area:     integer.    | Area of the block (height * lenght);\n",
        "   eccen:    continuous.  | Eccentricity of the block (lenght / height);\n",
        "   p_black:  continuous.  | Percentage of black pixels within the block (blackpix / area);\n",
        "   p_and:    continuous.        | Percentage of black pixels after the application of the Run Length Smoothing Algorithm (RLSA) (blackand / area);\n",
        "   mean_tr:  continuous.      | Mean number of white-black transitions (blackpix / wb_trans);\n",
        "   blackpix: integer.    | Total number of black pixels in the original bitmap of the block.\n",
        "   blackand: integer.        | Total number of black pixels in the bitmap of the block after the RLSA.\n",
        "   wb_trans: integer.          | Number of white-black transitions in the original bitmap of the block."
      ]
    },
    {
      "cell_type": "markdown",
      "metadata": {
        "id": "_uE7C0RvD8Ip"
      },
      "source": [
        "# Dataviz"
      ]
    },
    {
      "cell_type": "code",
      "metadata": {
        "colab": {
          "base_uri": "https://localhost:8080/",
          "height": 17
        },
        "id": "hlCeHZPHD8Ip",
        "outputId": "d509844a-fe29-4a21-e717-f953630ca309"
      },
      "source": [
        "import pandas as pd\n",
        "import numpy as np\n",
        "import matplotlib.pyplot as plt\n",
        "import seaborn as sb\n",
        "\n",
        "import plotly.offline as py\n",
        "py.init_notebook_mode(connected=True)\n",
        "import plotly.graph_objs as go\n",
        "from plotly.subplots import make_subplots\n",
        "import plotly.tools as tls\n",
        "\n",
        "\n",
        "\n",
        "\n",
        "%matplotlib inline"
      ],
      "execution_count": null,
      "outputs": [
        {
          "output_type": "display_data",
          "data": {
            "text/html": [
              "        <script type=\"text/javascript\">\n",
              "        window.PlotlyConfig = {MathJaxConfig: 'local'};\n",
              "        if (window.MathJax) {MathJax.Hub.Config({SVG: {font: \"STIX-Web\"}});}\n",
              "        if (typeof require !== 'undefined') {\n",
              "        require.undef(\"plotly\");\n",
              "        requirejs.config({\n",
              "            paths: {\n",
              "                'plotly': ['https://cdn.plot.ly/plotly-latest.min']\n",
              "            }\n",
              "        });\n",
              "        require(['plotly'], function(Plotly) {\n",
              "            window._Plotly = Plotly;\n",
              "        });\n",
              "        }\n",
              "        </script>\n",
              "        "
            ]
          },
          "metadata": {
            "tags": []
          }
        }
      ]
    },
    {
      "cell_type": "code",
      "metadata": {
        "colab": {
          "base_uri": "https://localhost:8080/",
          "height": 402
        },
        "id": "ETifWYtTD8Iq",
        "outputId": "770f10a9-f1d6-46a3-f79b-274b49b8ce7b"
      },
      "source": [
        "dataset = pd.read_csv(\"finaldataset.csv\")\n",
        "dataset"
      ],
      "execution_count": 7,
      "outputs": [
        {
          "output_type": "execute_result",
          "data": {
            "text/plain": [
              "      height  length  area    eccen  p_black  p_and  mean_tr  blackpix  \\\n",
              "0          5       7    35    1.400    0.400  0.657     2.33        14   \n",
              "1          6       7    42    1.167    0.429  0.881     3.60        18   \n",
              "2          6      18   108    3.000    0.287  0.741     4.43        31   \n",
              "3          5       7    35    1.400    0.371  0.743     4.33        13   \n",
              "4          6       3    18    0.500    0.500  0.944     2.25         9   \n",
              "...      ...     ...   ...      ...      ...    ...      ...       ...   \n",
              "5468       4     524  2096  131.000    0.542  0.603    40.57      1136   \n",
              "5469       7       4    28    0.571    0.714  0.929    10.00        20   \n",
              "5470       6      95   570   15.833    0.300  0.911     1.64       171   \n",
              "5471       7      41   287    5.857    0.213  0.801     1.36        61   \n",
              "5472       8       1     8    0.125    1.000  1.000     8.00         8   \n",
              "\n",
              "      blackand  wb_trans  target  \n",
              "0           23         6       1  \n",
              "1           37         5       1  \n",
              "2           80         7       1  \n",
              "3           26         3       1  \n",
              "4           17         4       1  \n",
              "...        ...       ...     ...  \n",
              "5468      1264        28       2  \n",
              "5469        26         2       1  \n",
              "5470       519       104       1  \n",
              "5471       230        45       1  \n",
              "5472         8         1       4  \n",
              "\n",
              "[5473 rows x 11 columns]"
            ],
            "text/html": "<div>\n<style scoped>\n    .dataframe tbody tr th:only-of-type {\n        vertical-align: middle;\n    }\n\n    .dataframe tbody tr th {\n        vertical-align: top;\n    }\n\n    .dataframe thead th {\n        text-align: right;\n    }\n</style>\n<table border=\"1\" class=\"dataframe\">\n  <thead>\n    <tr style=\"text-align: right;\">\n      <th></th>\n      <th>height</th>\n      <th>length</th>\n      <th>area</th>\n      <th>eccen</th>\n      <th>p_black</th>\n      <th>p_and</th>\n      <th>mean_tr</th>\n      <th>blackpix</th>\n      <th>blackand</th>\n      <th>wb_trans</th>\n      <th>target</th>\n    </tr>\n  </thead>\n  <tbody>\n    <tr>\n      <th>0</th>\n      <td>5</td>\n      <td>7</td>\n      <td>35</td>\n      <td>1.400</td>\n      <td>0.400</td>\n      <td>0.657</td>\n      <td>2.33</td>\n      <td>14</td>\n      <td>23</td>\n      <td>6</td>\n      <td>1</td>\n    </tr>\n    <tr>\n      <th>1</th>\n      <td>6</td>\n      <td>7</td>\n      <td>42</td>\n      <td>1.167</td>\n      <td>0.429</td>\n      <td>0.881</td>\n      <td>3.60</td>\n      <td>18</td>\n      <td>37</td>\n      <td>5</td>\n      <td>1</td>\n    </tr>\n    <tr>\n      <th>2</th>\n      <td>6</td>\n      <td>18</td>\n      <td>108</td>\n      <td>3.000</td>\n      <td>0.287</td>\n      <td>0.741</td>\n      <td>4.43</td>\n      <td>31</td>\n      <td>80</td>\n      <td>7</td>\n      <td>1</td>\n    </tr>\n    <tr>\n      <th>3</th>\n      <td>5</td>\n      <td>7</td>\n      <td>35</td>\n      <td>1.400</td>\n      <td>0.371</td>\n      <td>0.743</td>\n      <td>4.33</td>\n      <td>13</td>\n      <td>26</td>\n      <td>3</td>\n      <td>1</td>\n    </tr>\n    <tr>\n      <th>4</th>\n      <td>6</td>\n      <td>3</td>\n      <td>18</td>\n      <td>0.500</td>\n      <td>0.500</td>\n      <td>0.944</td>\n      <td>2.25</td>\n      <td>9</td>\n      <td>17</td>\n      <td>4</td>\n      <td>1</td>\n    </tr>\n    <tr>\n      <th>...</th>\n      <td>...</td>\n      <td>...</td>\n      <td>...</td>\n      <td>...</td>\n      <td>...</td>\n      <td>...</td>\n      <td>...</td>\n      <td>...</td>\n      <td>...</td>\n      <td>...</td>\n      <td>...</td>\n    </tr>\n    <tr>\n      <th>5468</th>\n      <td>4</td>\n      <td>524</td>\n      <td>2096</td>\n      <td>131.000</td>\n      <td>0.542</td>\n      <td>0.603</td>\n      <td>40.57</td>\n      <td>1136</td>\n      <td>1264</td>\n      <td>28</td>\n      <td>2</td>\n    </tr>\n    <tr>\n      <th>5469</th>\n      <td>7</td>\n      <td>4</td>\n      <td>28</td>\n      <td>0.571</td>\n      <td>0.714</td>\n      <td>0.929</td>\n      <td>10.00</td>\n      <td>20</td>\n      <td>26</td>\n      <td>2</td>\n      <td>1</td>\n    </tr>\n    <tr>\n      <th>5470</th>\n      <td>6</td>\n      <td>95</td>\n      <td>570</td>\n      <td>15.833</td>\n      <td>0.300</td>\n      <td>0.911</td>\n      <td>1.64</td>\n      <td>171</td>\n      <td>519</td>\n      <td>104</td>\n      <td>1</td>\n    </tr>\n    <tr>\n      <th>5471</th>\n      <td>7</td>\n      <td>41</td>\n      <td>287</td>\n      <td>5.857</td>\n      <td>0.213</td>\n      <td>0.801</td>\n      <td>1.36</td>\n      <td>61</td>\n      <td>230</td>\n      <td>45</td>\n      <td>1</td>\n    </tr>\n    <tr>\n      <th>5472</th>\n      <td>8</td>\n      <td>1</td>\n      <td>8</td>\n      <td>0.125</td>\n      <td>1.000</td>\n      <td>1.000</td>\n      <td>8.00</td>\n      <td>8</td>\n      <td>8</td>\n      <td>1</td>\n      <td>4</td>\n    </tr>\n  </tbody>\n</table>\n<p>5473 rows × 11 columns</p>\n</div>"
          },
          "metadata": {},
          "execution_count": 7
        }
      ]
    },
    {
      "cell_type": "code",
      "metadata": {
        "colab": {
          "base_uri": "https://localhost:8080/"
        },
        "id": "ljYoQTxPD8Iq",
        "outputId": "1bc01eec-e021-493e-9f6c-9bf391d0ef8d"
      },
      "source": [
        "print(dataset.target.min())\n",
        "print(dataset.target.max())"
      ],
      "execution_count": null,
      "outputs": [
        {
          "output_type": "stream",
          "text": [
            "1\n",
            "5\n"
          ],
          "name": "stdout"
        }
      ]
    },
    {
      "cell_type": "markdown",
      "metadata": {
        "id": "wbkCjO7_D8Iq"
      },
      "source": [
        "We have 5 classes."
      ]
    },
    {
      "cell_type": "code",
      "metadata": {
        "colab": {
          "base_uri": "https://localhost:8080/"
        },
        "id": "rGwK8uj4D8Ir",
        "outputId": "4a16ff8e-bc28-4887-e405-dd9f14c0050e"
      },
      "source": [
        "print(pd.isnull(dataset))\n",
        "for column in dataset.columns:\n",
        "    print('NaN' in dataset[column])"
      ],
      "execution_count": null,
      "outputs": [
        {
          "output_type": "stream",
          "text": [
            "      height  length   area  eccen  ...  blackpix  blackand  wb_trans  target\n",
            "0      False   False  False  False  ...     False     False     False   False\n",
            "1      False   False  False  False  ...     False     False     False   False\n",
            "2      False   False  False  False  ...     False     False     False   False\n",
            "3      False   False  False  False  ...     False     False     False   False\n",
            "4      False   False  False  False  ...     False     False     False   False\n",
            "...      ...     ...    ...    ...  ...       ...       ...       ...     ...\n",
            "5468   False   False  False  False  ...     False     False     False   False\n",
            "5469   False   False  False  False  ...     False     False     False   False\n",
            "5470   False   False  False  False  ...     False     False     False   False\n",
            "5471   False   False  False  False  ...     False     False     False   False\n",
            "5472   False   False  False  False  ...     False     False     False   False\n",
            "\n",
            "[5473 rows x 11 columns]\n",
            "False\n",
            "False\n",
            "False\n",
            "False\n",
            "False\n",
            "False\n",
            "False\n",
            "False\n",
            "False\n",
            "False\n",
            "False\n"
          ],
          "name": "stdout"
        }
      ]
    },
    {
      "cell_type": "markdown",
      "metadata": {
        "id": "H59twdqbD8Ir"
      },
      "source": [
        "The dataset does not seem to have missing values"
      ]
    },
    {
      "cell_type": "code",
      "metadata": {
        "colab": {
          "base_uri": "https://localhost:8080/"
        },
        "id": "BfxWLpemD8Ir",
        "outputId": "db2cfcef-4ee5-44a8-a4dc-feb0baa19453"
      },
      "source": [
        "dataset['target'].value_counts()\n"
      ],
      "execution_count": null,
      "outputs": [
        {
          "output_type": "execute_result",
          "data": {
            "text/plain": [
              "1    4913\n",
              "2     329\n",
              "5     115\n",
              "4      88\n",
              "3      28\n",
              "Name: target, dtype: int64"
            ]
          },
          "metadata": {
            "tags": []
          },
          "execution_count": 237
        }
      ]
    },
    {
      "cell_type": "code",
      "metadata": {
        "colab": {
          "base_uri": "https://localhost:8080/"
        },
        "id": "nHtGmLixD8Ir",
        "outputId": "3e06ca10-e207-4794-f754-c477b12d96e4"
      },
      "source": [
        "print(str(4913/sum(dataset['target'].value_counts())))"
      ],
      "execution_count": null,
      "outputs": [
        {
          "output_type": "stream",
          "text": [
            "0.8976795176320117\n"
          ],
          "name": "stdout"
        }
      ]
    },
    {
      "cell_type": "code",
      "metadata": {
        "colab": {
          "base_uri": "https://localhost:8080/",
          "height": 309
        },
        "id": "EL1_zyR4D8Is",
        "outputId": "fd73f593-e6d1-41b8-8d02-6bab49303908"
      },
      "source": [
        "dataset.target.value_counts(normalize=True).plot(kind= 'bar', title =\"Target Distribution\")\n",
        "plt.xlabel('Categories')\n",
        "plt.ylabel('Count')"
      ],
      "execution_count": null,
      "outputs": [
        {
          "output_type": "execute_result",
          "data": {
            "text/plain": [
              "Text(0, 0.5, 'Count')"
            ]
          },
          "metadata": {
            "tags": []
          },
          "execution_count": 239
        },
        {
          "output_type": "display_data",
          "data": {
            "image/png": "[encoded data removed]",
            "text/plain": [
              "<Figure size 432x288 with 1 Axes>"
            ]
          },
          "metadata": {
            "tags": [],
            "needs_background": "light"
          }
        }
      ]
    },
    {
      "cell_type": "markdown",
      "metadata": {
        "id": "_IHjmUFFD8Is"
      },
      "source": [
        "Comments: 90% of the blocks belong to the first class. The 5th and 4th category are almost the same."
      ]
    },
    {
      "cell_type": "code",
      "metadata": {
        "colab": {
          "base_uri": "https://localhost:8080/",
          "height": 279
        },
        "id": "_h1eo84KD8Is",
        "outputId": "810f867a-9870-4e23-f548-c0ab5c27ccf8"
      },
      "source": [
        "plt.scatter(dataset.height,dataset.target)\n",
        "sb.set\n",
        "plt.xlabel(\"height\")\n",
        "plt.ylabel(\"target\")\n",
        "plt.show()"
      ],
      "execution_count": null,
      "outputs": [
        {
          "output_type": "display_data",
          "data": {
            "image/png": "[encoded data removed]",
            "text/plain": [
              "<Figure size 432x288 with 1 Axes>"
            ]
          },
          "metadata": {
            "tags": [],
            "needs_background": "light"
          }
        }
      ]
    },
    {
      "cell_type": "markdown",
      "metadata": {
        "id": "HZStZ_L4D8Is"
      },
      "source": [
        "we can see that the target values are mainly between 0 and 300 of height. the 4th category had few observations out of this range, this can be interpreted as some specific case. "
      ]
    },
    {
      "cell_type": "markdown",
      "metadata": {
        "id": "udh2iu79D8Is"
      },
      "source": [
        "## Distributions of the variables"
      ]
    },
    {
      "cell_type": "code",
      "metadata": {
        "colab": {
          "base_uri": "https://localhost:8080/",
          "height": 282
        },
        "id": "gScFCiD-D8It",
        "outputId": "fb0029c4-41d4-4d23-be9e-d968cd060499"
      },
      "source": [
        "dataset.height.plot(kind=\"density\",xlim=(-dataset.height.max(),dataset.height.max()))"
      ],
      "execution_count": null,
      "outputs": [
        {
          "output_type": "execute_result",
          "data": {
            "text/plain": [
              "<matplotlib.axes._subplots.AxesSubplot at 0x7f66071d70b8>"
            ]
          },
          "metadata": {
            "tags": []
          },
          "execution_count": 241
        },
        {
          "output_type": "display_data",
          "data": {
            "image/png": "[encoded data removed]",
            "text/plain": [
              "<Figure size 432x288 with 1 Axes>"
            ]
          },
          "metadata": {
            "tags": [],
            "needs_background": "light"
          }
        }
      ]
    },
    {
      "cell_type": "code",
      "metadata": {
        "colab": {
          "base_uri": "https://localhost:8080/",
          "height": 282
        },
        "id": "QbOxKnX0D8It",
        "outputId": "6f800bad-1bc4-46ef-85b8-d2bc81d5ea14"
      },
      "source": [
        "dataset.length.plot(kind=\"density\",xlim=(-dataset.length.max(),dataset.length.max()))"
      ],
      "execution_count": null,
      "outputs": [
        {
          "output_type": "execute_result",
          "data": {
            "text/plain": [
              "<matplotlib.axes._subplots.AxesSubplot at 0x7f660716b9e8>"
            ]
          },
          "metadata": {
            "tags": []
          },
          "execution_count": 242
        },
        {
          "output_type": "display_data",
          "data": {
            "image/png": "[encoded data removed]",
            "text/plain": [
              "<Figure size 432x288 with 1 Axes>"
            ]
          },
          "metadata": {
            "tags": [],
            "needs_background": "light"
          }
        }
      ]
    },
    {
      "cell_type": "code",
      "metadata": {
        "colab": {
          "base_uri": "https://localhost:8080/",
          "height": 282
        },
        "id": "9DE-5XxKD8It",
        "outputId": "f8745ec7-a60d-4204-e371-0ee8128aab2b"
      },
      "source": [
        "dataset.area.plot(kind=\"density\",xlim=(-dataset.area.max(),dataset.area.max()))"
      ],
      "execution_count": null,
      "outputs": [
        {
          "output_type": "execute_result",
          "data": {
            "text/plain": [
              "<matplotlib.axes._subplots.AxesSubplot at 0x7f66071e0ef0>"
            ]
          },
          "metadata": {
            "tags": []
          },
          "execution_count": 243
        },
        {
          "output_type": "display_data",
          "data": {
            "image/png": "[encoded data removed]",
            "text/plain": [
              "<Figure size 432x288 with 1 Axes>"
            ]
          },
          "metadata": {
            "tags": [],
            "needs_background": "light"
          }
        }
      ]
    },
    {
      "cell_type": "code",
      "metadata": {
        "colab": {
          "base_uri": "https://localhost:8080/",
          "height": 282
        },
        "id": "NRTUU2LFD8It",
        "outputId": "841f8e62-f551-427d-e9c4-e273eb1c4afb"
      },
      "source": [
        "dataset.eccen.plot(kind=\"density\",xlim=(-dataset.eccen.max(),dataset.eccen.max()))"
      ],
      "execution_count": null,
      "outputs": [
        {
          "output_type": "execute_result",
          "data": {
            "text/plain": [
              "<matplotlib.axes._subplots.AxesSubplot at 0x7f660e761940>"
            ]
          },
          "metadata": {
            "tags": []
          },
          "execution_count": 244
        },
        {
          "output_type": "display_data",
          "data": {
            "image/png": "[encoded data removed]",
            "text/plain": [
              "<Figure size 432x288 with 1 Axes>"
            ]
          },
          "metadata": {
            "tags": [],
            "needs_background": "light"
          }
        }
      ]
    },
    {
      "cell_type": "code",
      "metadata": {
        "colab": {
          "base_uri": "https://localhost:8080/",
          "height": 282
        },
        "id": "PwqdXqeKD8Iu",
        "outputId": "5f8e5775-65ce-4220-d125-1e2634c5fa99"
      },
      "source": [
        "dataset.target.plot(kind=\"density\",xlim=(-dataset.target.max(),dataset.target.max()))"
      ],
      "execution_count": null,
      "outputs": [
        {
          "output_type": "execute_result",
          "data": {
            "text/plain": [
              "<matplotlib.axes._subplots.AxesSubplot at 0x7f66193bada0>"
            ]
          },
          "metadata": {
            "tags": []
          },
          "execution_count": 245
        },
        {
          "output_type": "display_data",
          "data": {
            "image/png": "[encoded data removed]",
            "text/plain": [
              "<Figure size 432x288 with 1 Axes>"
            ]
          },
          "metadata": {
            "tags": [],
            "needs_background": "light"
          }
        }
      ]
    },
    {
      "cell_type": "code",
      "metadata": {
        "colab": {
          "base_uri": "https://localhost:8080/",
          "height": 284
        },
        "id": "0SCiaPUmD8Iu",
        "outputId": "880f8f05-9778-4acd-eb30-f4db4cb02c22"
      },
      "source": [
        "dataset.blackpix.plot(kind=\"density\",xlim=(-dataset.blackpix.max(),dataset.blackpix.max()))"
      ],
      "execution_count": null,
      "outputs": [
        {
          "output_type": "execute_result",
          "data": {
            "text/plain": [
              "<matplotlib.axes._subplots.AxesSubplot at 0x7f660e776eb8>"
            ]
          },
          "metadata": {
            "tags": []
          },
          "execution_count": 246
        },
        {
          "output_type": "display_data",
          "data": {
            "image/png": "[encoded data removed]",
            "text/plain": [
              "<Figure size 432x288 with 1 Axes>"
            ]
          },
          "metadata": {
            "tags": [],
            "needs_background": "light"
          }
        }
      ]
    },
    {
      "cell_type": "markdown",
      "metadata": {
        "id": "OZwVLJ5JD8Iu"
      },
      "source": [
        "We have centred rather gaussian variables (linear discriminant analysis can be used)"
      ]
    },
    {
      "cell_type": "markdown",
      "metadata": {
        "id": "UUkxUxjaD8Iu"
      },
      "source": [
        "## Correlation heatmap"
      ]
    },
    {
      "cell_type": "code",
      "metadata": {
        "colab": {
          "base_uri": "https://localhost:8080/"
        },
        "id": "GvAdfXnrD8Iu",
        "outputId": "988716d0-371a-43e9-da86-1f538c589505"
      },
      "source": [
        "correlation = dataset.corr() #pearson = linear correlation\n",
        "correlation.sort_values([\"target\"])\n",
        "correlation.target\n"
      ],
      "execution_count": null,
      "outputs": [
        {
          "output_type": "execute_result",
          "data": {
            "text/plain": [
              "height      0.351032\n",
              "length     -0.004540\n",
              "area        0.234254\n",
              "eccen       0.099196\n",
              "p_black     0.212936\n",
              "p_and      -0.177085\n",
              "mean_tr     0.072344\n",
              "blackpix    0.165633\n",
              "blackand    0.156506\n",
              "wb_trans    0.033749\n",
              "target      1.000000\n",
              "Name: target, dtype: float64"
            ]
          },
          "metadata": {
            "tags": []
          },
          "execution_count": 247
        }
      ]
    },
    {
      "cell_type": "code",
      "metadata": {
        "colab": {
          "base_uri": "https://localhost:8080/",
          "height": 863
        },
        "id": "W_B3eNvlD8Iu",
        "outputId": "7cb9c651-773a-4a29-ce40-1dba4aa91354"
      },
      "source": [
        "\n",
        "#plotting a heatmap for to the correlation\n",
        "plt.figure(figsize=(15,15))\n",
        "mask = np.zeros_like(correlation)\n",
        "mask[np.triu_indices_from(mask)] = True\n",
        "sb.heatmap(correlation, annot=True, square = True, mask = mask)"
      ],
      "execution_count": null,
      "outputs": [
        {
          "output_type": "execute_result",
          "data": {
            "text/plain": [
              "<matplotlib.axes._subplots.AxesSubplot at 0x7f660e692908>"
            ]
          },
          "metadata": {
            "tags": []
          },
          "execution_count": 248
        },
        {
          "output_type": "display_data",
          "data": {
            "image/png": "[encoded data removed]",
            "text/plain": [
              "<Figure size 1080x1080 with 2 Axes>"
            ]
          },
          "metadata": {
            "tags": [],
            "needs_background": "light"
          }
        }
      ]
    },
    {
      "cell_type": "markdown",
      "metadata": {
        "id": "K48v8AJUD8Iv"
      },
      "source": [
        "the highest correlation is blackand and blackpix (0.96) => In other words, the total number of black pixels in the original bitmap of the block and after the RLSA are highly related \n",
        "\n",
        "the height is the most important factor to determine the target."
      ]
    },
    {
      "cell_type": "markdown",
      "metadata": {
        "id": "ReWNK6z4D8Iv"
      },
      "source": [
        "# Machine Learning\n"
      ]
    },
    {
      "cell_type": "markdown",
      "metadata": {
        "id": "ChTW5YA6D8Iv"
      },
      "source": [
        "As we have a target with some discrete values only, we conclude that we are facing a supervised classification problem.\n",
        "\n",
        "So we can try three different types of machine learning methods:\n",
        "\n",
        "-Logistic Regression but we are not in a binary case, so it does not seem appropriate\n",
        "-Discriminant Analysis\n",
        "-Classification trees\n",
        "\n",
        "We can also try unsupervised classification models, such as knn which is a clustering algorithm."
      ]
    },
    {
      "cell_type": "markdown",
      "metadata": {
        "id": "j6SFLxSTD8Iv"
      },
      "source": [
        "## Pre-processing"
      ]
    },
    {
      "cell_type": "markdown",
      "metadata": {
        "id": "tI7LuC-6D8Iv"
      },
      "source": [
        "We scale our data to reduce the effect of the differences between variables (a lot of them are centred but do not have to same scale of values). We can see that with the scale of our x axes for our different distributions of variables."
      ]
    },
    {
      "cell_type": "code",
      "metadata": {
        "colab": {
          "base_uri": "https://localhost:8080/",
          "height": 402
        },
        "id": "ETzRJVH9D8Iw",
        "outputId": "eed736fe-97a4-4b5b-82cb-2d3bdfe11f85"
      },
      "source": [
        "from sklearn import preprocessing\n",
        "#saving the target variable and dropping it from the entire dataset\n",
        "y = dataset['target']\n",
        "X= dataset.drop(\"target\", axis = 1)\n",
        "#normalize the data\n",
        "x = X.values\n",
        "scaler = preprocessing.MinMaxScaler()\n",
        "#this scaler prevents the dataset from distortion\n",
        "x_scaled = scaler.fit_transform(X)\n",
        "X = pd.DataFrame(x_scaled)\n",
        "X.columns = ['height', 'length', 'area', 'eccen', 'p_black', 'p_and', 'mean_tr', 'blackpix', 'blackand', 'wb_trans']\n",
        "X\n"
      ],
      "execution_count": 8,
      "outputs": [
        {
          "output_type": "execute_result",
          "data": {
            "text/plain": [
              "        height    length      area     eccen   p_black     p_and   mean_tr  \\\n",
              "0     0.004981  0.010870  0.000194  0.002594  0.367089  0.634328  0.000268   \n",
              "1     0.006227  0.010870  0.000243  0.002160  0.397679  0.873134  0.000525   \n",
              "2     0.006227  0.030797  0.000701  0.005574  0.247890  0.723881  0.000692   \n",
              "3     0.004981  0.010870  0.000194  0.002594  0.336498  0.726013  0.000672   \n",
              "4     0.006227  0.003623  0.000076  0.000918  0.472574  0.940299  0.000252   \n",
              "...        ...       ...       ...       ...       ...       ...       ...   \n",
              "5468  0.003736  0.947464  0.014508  0.243938  0.516878  0.576759  0.007987   \n",
              "5469  0.007472  0.005435  0.000146  0.001050  0.698312  0.924307  0.001817   \n",
              "5470  0.006227  0.170290  0.003910  0.029472  0.261603  0.905117  0.000129   \n",
              "5471  0.007472  0.072464  0.001945  0.010894  0.169831  0.787846  0.000073   \n",
              "5472  0.008717  0.000000  0.000007  0.000220  1.000000  1.000000  0.001413   \n",
              "\n",
              "      blackpix  blackand  wb_trans  \n",
              "0     0.000212  0.000347  0.001557  \n",
              "1     0.000333  0.000650  0.001246  \n",
              "2     0.000727  0.001583  0.001869  \n",
              "3     0.000182  0.000412  0.000623  \n",
              "4     0.000061  0.000217  0.000934  \n",
              "...        ...       ...       ...  \n",
              "5468  0.034202  0.027251  0.008409  \n",
              "5469  0.000394  0.000412  0.000311  \n",
              "5470  0.004968  0.011100  0.032077  \n",
              "5471  0.001636  0.004835  0.013703  \n",
              "5472  0.000030  0.000022  0.000000  \n",
              "\n",
              "[5473 rows x 10 columns]"
            ],
            "text/html": "<div>\n<style scoped>\n    .dataframe tbody tr th:only-of-type {\n        vertical-align: middle;\n    }\n\n    .dataframe tbody tr th {\n        vertical-align: top;\n    }\n\n    .dataframe thead th {\n        text-align: right;\n    }\n</style>\n<table border=\"1\" class=\"dataframe\">\n  <thead>\n    <tr style=\"text-align: right;\">\n      <th></th>\n      <th>height</th>\n      <th>length</th>\n      <th>area</th>\n      <th>eccen</th>\n      <th>p_black</th>\n      <th>p_and</th>\n      <th>mean_tr</th>\n      <th>blackpix</th>\n      <th>blackand</th>\n      <th>wb_trans</th>\n    </tr>\n  </thead>\n  <tbody>\n    <tr>\n      <th>0</th>\n      <td>0.004981</td>\n      <td>0.010870</td>\n      <td>0.000194</td>\n      <td>0.002594</td>\n      <td>0.367089</td>\n      <td>0.634328</td>\n      <td>0.000268</td>\n      <td>0.000212</td>\n      <td>0.000347</td>\n      <td>0.001557</td>\n    </tr>\n    <tr>\n      <th>1</th>\n      <td>0.006227</td>\n      <td>0.010870</td>\n      <td>0.000243</td>\n      <td>0.002160</td>\n      <td>0.397679</td>\n      <td>0.873134</td>\n      <td>0.000525</td>\n      <td>0.000333</td>\n      <td>0.000650</td>\n      <td>0.001246</td>\n    </tr>\n    <tr>\n      <th>2</th>\n      <td>0.006227</td>\n      <td>0.030797</td>\n      <td>0.000701</td>\n      <td>0.005574</td>\n      <td>0.247890</td>\n      <td>0.723881</td>\n      <td>0.000692</td>\n      <td>0.000727</td>\n      <td>0.001583</td>\n      <td>0.001869</td>\n    </tr>\n    <tr>\n      <th>3</th>\n      <td>0.004981</td>\n      <td>0.010870</td>\n      <td>0.000194</td>\n      <td>0.002594</td>\n      <td>0.336498</td>\n      <td>0.726013</td>\n      <td>0.000672</td>\n      <td>0.000182</td>\n      <td>0.000412</td>\n      <td>0.000623</td>\n    </tr>\n    <tr>\n      <th>4</th>\n      <td>0.006227</td>\n      <td>0.003623</td>\n      <td>0.000076</td>\n      <td>0.000918</td>\n      <td>0.472574</td>\n      <td>0.940299</td>\n      <td>0.000252</td>\n      <td>0.000061</td>\n      <td>0.000217</td>\n      <td>0.000934</td>\n    </tr>\n    <tr>\n      <th>...</th>\n      <td>...</td>\n      <td>...</td>\n      <td>...</td>\n      <td>...</td>\n      <td>...</td>\n      <td>...</td>\n      <td>...</td>\n      <td>...</td>\n      <td>...</td>\n      <td>...</td>\n    </tr>\n    <tr>\n      <th>5468</th>\n      <td>0.003736</td>\n      <td>0.947464</td>\n      <td>0.014508</td>\n      <td>0.243938</td>\n      <td>0.516878</td>\n      <td>0.576759</td>\n      <td>0.007987</td>\n      <td>0.034202</td>\n      <td>0.027251</td>\n      <td>0.008409</td>\n    </tr>\n    <tr>\n      <th>5469</th>\n      <td>0.007472</td>\n      <td>0.005435</td>\n      <td>0.000146</td>\n      <td>0.001050</td>\n      <td>0.698312</td>\n      <td>0.924307</td>\n      <td>0.001817</td>\n      <td>0.000394</td>\n      <td>0.000412</td>\n      <td>0.000311</td>\n    </tr>\n    <tr>\n      <th>5470</th>\n      <td>0.006227</td>\n      <td>0.170290</td>\n      <td>0.003910</td>\n      <td>0.029472</td>\n      <td>0.261603</td>\n      <td>0.905117</td>\n      <td>0.000129</td>\n      <td>0.004968</td>\n      <td>0.011100</td>\n      <td>0.032077</td>\n    </tr>\n    <tr>\n      <th>5471</th>\n      <td>0.007472</td>\n      <td>0.072464</td>\n      <td>0.001945</td>\n      <td>0.010894</td>\n      <td>0.169831</td>\n      <td>0.787846</td>\n      <td>0.000073</td>\n      <td>0.001636</td>\n      <td>0.004835</td>\n      <td>0.013703</td>\n    </tr>\n    <tr>\n      <th>5472</th>\n      <td>0.008717</td>\n      <td>0.000000</td>\n      <td>0.000007</td>\n      <td>0.000220</td>\n      <td>1.000000</td>\n      <td>1.000000</td>\n      <td>0.001413</td>\n      <td>0.000030</td>\n      <td>0.000022</td>\n      <td>0.000000</td>\n    </tr>\n  </tbody>\n</table>\n<p>5473 rows × 10 columns</p>\n</div>"
          },
          "metadata": {},
          "execution_count": 8
        }
      ]
    },
    {
      "cell_type": "code",
      "metadata": {
        "id": "4AXG_YAGD8Iw"
      },
      "source": [
        "#splitting the dataset into train and test sets \n",
        "from sklearn.model_selection import train_test_split\n",
        "from sklearn.metrics import confusion_matrix\n",
        "from sklearn.metrics import plot_confusion_matrix\n",
        "from sklearn.discriminant_analysis import LinearDiscriminantAnalysis\n",
        "from sklearn.metrics import accuracy_score\n",
        "from sklearn.model_selection import GridSearchCV\n",
        "from sklearn.metrics import classification_report\n",
        "from sklearn.metrics import f1_score\n",
        "from sklearn.model_selection import cross_validate\n",
        "\n",
        "X_train, X_test, y_train, y_test = train_test_split(X, y, train_size = 0.7,random_state=1)"
      ],
      "execution_count": 12,
      "outputs": []
    },
    {
      "cell_type": "markdown",
      "metadata": {
        "id": "ngrjjsAMD8Iw"
      },
      "source": [
        "## Linear Discriminant Analysis "
      ]
    },
    {
      "cell_type": "markdown",
      "metadata": {
        "id": "nUxmf_8cD8Iw"
      },
      "source": [
        "We choose it over logistic regression as a classification technique because we have more than two classes. Also, it permits to have stable parameter estimates, even with well-separated classes."
      ]
    },
    {
      "cell_type": "code",
      "metadata": {
        "id": "56L6gbngD8Iy",
        "colab": {
          "base_uri": "https://localhost:8080/"
        },
        "outputId": "aa7f00be-a330-417c-c4c6-e49eb880fbab"
      },
      "source": [
        "lda = LinearDiscriminantAnalysis()\n",
        "lda.fit(X_train, y_train)"
      ],
      "execution_count": null,
      "outputs": [
        {
          "output_type": "execute_result",
          "data": {
            "text/plain": [
              "LinearDiscriminantAnalysis(n_components=None, priors=None, shrinkage=None,\n",
              "                           solver='svd', store_covariance=False, tol=0.0001)"
            ]
          },
          "metadata": {
            "tags": []
          },
          "execution_count": 306
        }
      ]
    },
    {
      "cell_type": "code",
      "metadata": {
        "id": "FSNZpMm2D8Iy",
        "colab": {
          "base_uri": "https://localhost:8080/"
        },
        "outputId": "82710805-8fbc-46bf-9423-de6b6c0cb066"
      },
      "source": [
        "y_pred = lda.predict(X_test)\n",
        "print(accuracy_score(y_test, y_pred))\n",
        "#OR lda.score(X_test,y_test)"
      ],
      "execution_count": null,
      "outputs": [
        {
          "output_type": "stream",
          "text": [
            "0.9464068209500609\n"
          ],
          "name": "stdout"
        }
      ]
    },
    {
      "cell_type": "markdown",
      "metadata": {
        "id": "UREKAQoND8Iy"
      },
      "source": [
        "We seem to have around 94% of accuracy with this model. But we do not forget that 90% of the dataset is in the same class, so it has an influence on this result. So, the accuracy is not a sufficient metric to conclude that this model is good.\n",
        "\n",
        "In the case of unbalanced classes, we have to take into account also other metrics such as the precision, the recall and the f1 score."
      ]
    },
    {
      "cell_type": "markdown",
      "metadata": {
        "id": "2nXLeJj-D8Iy"
      },
      "source": [
        "For each class, the recall is the following rate (True positives / (True positives + False negatives))\n",
        "If there are a lot of false negatives, the rate is small.\n",
        "Class 2,4 and 5 have respectively recalls of only: 0.59, 0.4 and 0.47.\n",
        "These classes have too much false negatives: values really in this class but predicted to be not.\n",
        "\n",
        "The precision is the rate of good predictions inside a class (True positives/ (True positives + false positives))\n",
        "\n",
        "We need to maintain a good precision while improving the recall. (tradeoff)\n",
        "High precision = low false positive rate & high recall = low false negative rate."
      ]
    },
    {
      "cell_type": "markdown",
      "metadata": {
        "id": "5vsFC8xKD8Iz"
      },
      "source": [
        "To mesure how good is the tradeoff, we mesure the f1 score.\n",
        "\n",
        "F1 score is the harmonic mean between precision and recall and helps us to figure out the tradeoff, in case of unbalanced classes like here. F1=2(P*R)(P+R)"
      ]
    },
    {
      "cell_type": "code",
      "metadata": {
        "id": "W4WMEJ_3D8Iz",
        "colab": {
          "base_uri": "https://localhost:8080/"
        },
        "outputId": "94fa9857-b15d-409b-e947-6b9fa19924a0"
      },
      "source": [
        "confusion_matrix(y_test,y_pred)\n"
      ],
      "execution_count": null,
      "outputs": [
        {
          "output_type": "execute_result",
          "data": {
            "text/plain": [
              "array([[1452,    9,    1,    1,    4],\n",
              "       [  43,   57,    0,    1,    1],\n",
              "       [   2,    0,    7,    1,    2],\n",
              "       [   4,    0,    0,   26,    1],\n",
              "       [  17,    0,    1,    0,   12]])"
            ]
          },
          "metadata": {
            "tags": []
          },
          "execution_count": 308
        }
      ]
    },
    {
      "cell_type": "code",
      "metadata": {
        "id": "IdnBygFrD8Iz",
        "colab": {
          "base_uri": "https://localhost:8080/"
        },
        "outputId": "9fcb9f97-bedb-488d-826a-068f7f037ecf"
      },
      "source": [
        "from sklearn.metrics import classification_report\n",
        "print(classification_report(y_test,y_pred))"
      ],
      "execution_count": null,
      "outputs": [
        {
          "output_type": "stream",
          "text": [
            "              precision    recall  f1-score   support\n",
            "\n",
            "           1       0.96      0.99      0.97      1467\n",
            "           2       0.86      0.56      0.68       102\n",
            "           3       0.78      0.58      0.67        12\n",
            "           4       0.90      0.84      0.87        31\n",
            "           5       0.60      0.40      0.48        30\n",
            "\n",
            "    accuracy                           0.95      1642\n",
            "   macro avg       0.82      0.67      0.73      1642\n",
            "weighted avg       0.94      0.95      0.94      1642\n",
            "\n"
          ],
          "name": "stdout"
        }
      ]
    },
    {
      "cell_type": "markdown",
      "metadata": {
        "id": "cmCp1w29D8Iz"
      },
      "source": [
        "But this evaluation can be biaised by the data we splitted in two sets.\n",
        "\n",
        "That is why, we choose to evaluate the model, performing a k fold cross validation, to have means of our metrics on k combinations of our training set, each time splitted into a different sub training set and a sub test set."
      ]
    },
    {
      "cell_type": "markdown",
      "metadata": {
        "id": "ysoPNHNND8Iz"
      },
      "source": [
        "### K fold cross validation"
      ]
    },
    {
      "cell_type": "code",
      "metadata": {
        "id": "qJusRuqwD8I0",
        "colab": {
          "base_uri": "https://localhost:8080/"
        },
        "outputId": "9f420b17-5e79-4348-c5ce-7d6d17b7a862"
      },
      "source": [
        "\n",
        "from sklearn.model_selection import cross_validate\n",
        "results = cross_validate(lda, X_train, y_train, cv=10,scoring=(\"accuracy\",\"f1_macro\"))\n",
        "#We choose f1_macro over micro because, if we chose micro, all classes would have be considered by its significance.\n",
        "#So we would have had good f1s but biaised by the fact that the great majority of elements are in class 1 and well predicted.\n",
        "results['test_f1_macro'].mean()\n",
        "#The f1 is at 0.70, we can try to ameliorate the model, to have a better precision/recall tradeoff.\n",
        "#The mean is better with 10 folds, than with 5 or 20\n"
      ],
      "execution_count": null,
      "outputs": [
        {
          "output_type": "execute_result",
          "data": {
            "text/plain": [
              "0.673012266183702"
            ]
          },
          "metadata": {
            "tags": []
          },
          "execution_count": 310
        }
      ]
    },
    {
      "cell_type": "markdown",
      "metadata": {
        "id": "gvbat1SHD8I0"
      },
      "source": [
        "We try to use a grid search with different values of hyperparams like solvers, performing 10 fold cross validation repeated ten times"
      ]
    },
    {
      "cell_type": "markdown",
      "metadata": {
        "id": "HosVd1XgN_hC"
      },
      "source": [
        "### Grid Search"
      ]
    },
    {
      "cell_type": "code",
      "metadata": {
        "scrolled": true,
        "id": "PrYbeTMcD8I0",
        "colab": {
          "base_uri": "https://localhost:8080/"
        },
        "outputId": "77e08c77-981c-4b25-ff3c-75a09e361fd9"
      },
      "source": [
        "#We test different hyperparameters to ameliorate the f1_macro\n",
        "from sklearn.model_selection import GridSearchCV\n",
        "lda2 = LinearDiscriminantAnalysis()\n",
        "grid = {\"solver\" : [\"svd\",\"lsqr\",\"eigen\"],\"tol\" : [0.0001,0.0002,0.0003],\"shrinkage\": [0,0.1,0.2,0.3,0.4,0.5,0.6,0.7,0.8,0.9,1]}\n",
        "search = GridSearchCV(lda2,param_grid = grid,scoring='f1_macro',cv=10,n_jobs=-1)\n",
        "#n_jobs = -1 runs each computation in parallel\n",
        "search.fit(X_train,y_train)\n"
      ],
      "execution_count": null,
      "outputs": [
        {
          "output_type": "execute_result",
          "data": {
            "text/plain": [
              "GridSearchCV(cv=10, error_score=nan,\n",
              "             estimator=LinearDiscriminantAnalysis(n_components=None,\n",
              "                                                  priors=None, shrinkage=None,\n",
              "                                                  solver='svd',\n",
              "                                                  store_covariance=False,\n",
              "                                                  tol=0.0001),\n",
              "             iid='deprecated', n_jobs=-1,\n",
              "             param_grid={'shrinkage': [0, 0.1, 0.2, 0.3, 0.4, 0.5, 0.6, 0.7,\n",
              "                                       0.8, 0.9, 1],\n",
              "                         'solver': ['svd', 'lsqr', 'eigen'],\n",
              "                         'tol': [0.0001, 0.0002, 0.0003]},\n",
              "             pre_dispatch='2*n_jobs', refit=True, return_train_score=False,\n",
              "             scoring='f1_macro', verbose=0)"
            ]
          },
          "metadata": {
            "tags": []
          },
          "execution_count": 311
        }
      ]
    },
    {
      "cell_type": "code",
      "metadata": {
        "id": "HwiYopuDD8I0",
        "colab": {
          "base_uri": "https://localhost:8080/"
        },
        "outputId": "8f3d2aeb-959e-48ad-b558-78b9371b136e"
      },
      "source": [
        "print(search.best_score_)\n",
        "print(search.best_params_) #The best combination of hyper params used to get the best score.\n",
        "model = search.best_estimator_\n",
        "y_lda = model.predict(X_test)\n",
        "classif_lda =(classification_report(y_test,y_lda))\n",
        "print(classif_lda)"
      ],
      "execution_count": null,
      "outputs": [
        {
          "output_type": "stream",
          "text": [
            "0.673012266183702\n",
            "{'shrinkage': 0, 'solver': 'lsqr', 'tol': 0.0001}\n",
            "              precision    recall  f1-score   support\n",
            "\n",
            "           1       0.96      0.99      0.97      1467\n",
            "           2       0.86      0.56      0.68       102\n",
            "           3       0.78      0.58      0.67        12\n",
            "           4       0.90      0.84      0.87        31\n",
            "           5       0.60      0.40      0.48        30\n",
            "\n",
            "    accuracy                           0.95      1642\n",
            "   macro avg       0.82      0.67      0.73      1642\n",
            "weighted avg       0.94      0.95      0.94      1642\n",
            "\n"
          ],
          "name": "stdout"
        }
      ]
    },
    {
      "cell_type": "code",
      "metadata": {
        "id": "XgzhGCVSSOD6"
      },
      "source": [
        "from sklearn.metrics import f1_score\r\n",
        "f1_lda = f1_score(y_test,y_lda,average='macro')\r\n",
        "acc_lda = accuracy_score(y_test,y_lda)\r\n",
        "print(acc_lda)\r\n",
        "print(f1_lda)"
      ],
      "execution_count": null,
      "outputs": []
    },
    {
      "cell_type": "markdown",
      "metadata": {
        "id": "YhBsUEw8D8I1"
      },
      "source": [
        "It seems we cannot have better with lda by tuning hyper parameters.\n",
        "We conclude that hyperparameter tuning is totally useless for LDA."
      ]
    },
    {
      "cell_type": "markdown",
      "metadata": {
        "id": "4JpNXnizD8I1"
      },
      "source": [
        "The change our values, we could also have played with the classification treshold. To increase the recall, we need to decrease the number of false negatives, and we can do that by lowering the decision threshold. (but we will have more false positives, decreasing precision at the same time (tradeoff to find)). The default threshold of sklearn is 0.5. If we want to adjust it, we will do it on training data to not overfit the test data."
      ]
    },
    {
      "cell_type": "markdown",
      "metadata": {
        "id": "aDrtan5OD8I1"
      },
      "source": [
        "## Quadratic Discriminant Analysis"
      ]
    },
    {
      "cell_type": "markdown",
      "metadata": {
        "id": "NBRg4nhmD8I1"
      },
      "source": [
        "We make the hypothesis that each class has its own covariance matrix.\n",
        "As for LDA, here we do not need to tune as well."
      ]
    },
    {
      "cell_type": "code",
      "metadata": {
        "id": "Ae_8XRQoD8I2"
      },
      "source": [
        "from sklearn.discriminant_analysis import QuadraticDiscriminantAnalysis\n"
      ],
      "execution_count": null,
      "outputs": []
    },
    {
      "cell_type": "code",
      "metadata": {
        "id": "VYMDHd4MD8I2",
        "colab": {
          "base_uri": "https://localhost:8080/"
        },
        "outputId": "53e5970f-65aa-44b3-e1c6-07c38d986a85"
      },
      "source": [
        "qda = QuadraticDiscriminantAnalysis()\n",
        "qda.fit(X_train, y_train)\n",
        "y_qda = qda.predict(X_test)\n",
        "print(accuracy_score(y_test, y_qda))\n",
        "conf2 = confusion_matrix(y_test,y_qda)\n",
        "print(conf2)\n",
        "print(classification_report(y_test,y_qda))\n",
        "#This model favorizes recall again precision, when lda do the opposite.\n",
        "#The f1_score is a little better, but the precision a little smaller.\n",
        "#We can conclude that both models have quite similar global performances.\n",
        "\n"
      ],
      "execution_count": null,
      "outputs": [
        {
          "output_type": "stream",
          "text": [
            "0.9397076735688186\n",
            "[[1414   21    1   14   17]\n",
            " [  13   79    0    8    2]\n",
            " [   0    0    6    0    6]\n",
            " [   1    0    0   29    1]\n",
            " [  13    1    0    1   15]]\n",
            "              precision    recall  f1-score   support\n",
            "\n",
            "           1       0.98      0.96      0.97      1467\n",
            "           2       0.78      0.77      0.78       102\n",
            "           3       0.86      0.50      0.63        12\n",
            "           4       0.56      0.94      0.70        31\n",
            "           5       0.37      0.50      0.42        30\n",
            "\n",
            "    accuracy                           0.94      1642\n",
            "   macro avg       0.71      0.73      0.70      1642\n",
            "weighted avg       0.95      0.94      0.94      1642\n",
            "\n"
          ],
          "name": "stdout"
        }
      ]
    },
    {
      "cell_type": "code",
      "metadata": {
        "id": "dn4JXnBUZgAd"
      },
      "source": [
        "acc_qda = accuracy_score(y_test,y_qda)\r\n",
        "f1_qda = f1_score(y_test,y_qda,average='macro')\r\n",
        "print(acc_qda)\r\n",
        "print(f1_qda)"
      ],
      "execution_count": null,
      "outputs": []
    },
    {
      "cell_type": "markdown",
      "metadata": {
        "id": "iC57YknTkWNR"
      },
      "source": [
        "LDA seems better than QDA in terms of precision/recall tradeoff, and\r\n",
        "they have similar precisions"
      ]
    },
    {
      "cell_type": "markdown",
      "metadata": {
        "id": "mBhm6kjvD8I2"
      },
      "source": [
        "## K Nearest Neighbours"
      ]
    },
    {
      "cell_type": "markdown",
      "metadata": {
        "id": "Ul77YHpeD8I2"
      },
      "source": [
        "With this unsupervised method, we will be able to establish a grid search based on k"
      ]
    },
    {
      "cell_type": "code",
      "metadata": {
        "id": "qREQLQmID8I2",
        "colab": {
          "base_uri": "https://localhost:8080/"
        },
        "outputId": "6268eb02-8e47-493d-ebf6-174cd6ebf5ef"
      },
      "source": [
        "from sklearn.neighbors import KNeighborsClassifier\n",
        "\n",
        "model = KNeighborsClassifier(n_neighbors=3) #we set k=3 by default to test\n",
        "\n",
        "model.fit(X_train,y_train)\n",
        "\n",
        "predicted= model.predict(X_test) \n",
        "print(accuracy_score(y_test, predicted))\n",
        "conf3 = confusion_matrix(y_test,predicted)\n",
        "print(conf3)\n",
        "print(classification_report(y_test,predicted))"
      ],
      "execution_count": null,
      "outputs": [
        {
          "output_type": "stream",
          "text": [
            "0.9549330085261876\n",
            "[[1446    8    2    1   10]\n",
            " [  25   76    0    1    0]\n",
            " [   7    0    5    0    0]\n",
            " [   7    0    0   24    0]\n",
            " [  13    0    0    0   17]]\n",
            "              precision    recall  f1-score   support\n",
            "\n",
            "           1       0.97      0.99      0.98      1467\n",
            "           2       0.90      0.75      0.82       102\n",
            "           3       0.71      0.42      0.53        12\n",
            "           4       0.92      0.77      0.84        31\n",
            "           5       0.63      0.57      0.60        30\n",
            "\n",
            "    accuracy                           0.95      1642\n",
            "   macro avg       0.83      0.70      0.75      1642\n",
            "weighted avg       0.95      0.95      0.95      1642\n",
            "\n"
          ],
          "name": "stdout"
        }
      ]
    },
    {
      "cell_type": "code",
      "metadata": {
        "colab": {
          "base_uri": "https://localhost:8080/"
        },
        "id": "NZpcsa7BqqkM",
        "outputId": "b0d5e2a0-9abc-46b2-d717-42617930e35a"
      },
      "source": [
        "from sklearn.model_selection import cross_validate\r\n",
        "results = cross_validate(model, X_train, y_train, cv=10,scoring=(\"accuracy\",\"f1_macro\"))\r\n",
        "\r\n",
        "print(results['test_f1_macro'].mean())\r\n",
        "print(results['test_accuracy'].mean())\r\n"
      ],
      "execution_count": null,
      "outputs": [
        {
          "output_type": "stream",
          "text": [
            "0.7483928312723702\n",
            "0.953016889686684\n"
          ],
          "name": "stdout"
        }
      ]
    },
    {
      "cell_type": "code",
      "metadata": {
        "id": "HFREo8kiD8I2",
        "colab": {
          "base_uri": "https://localhost:8080/"
        },
        "outputId": "a7634a9f-dfca-4277-cf87-536ef44d8e3d"
      },
      "source": [
        "\n",
        "\n",
        "parameters = {  \"n_neighbors\"    : range(1,11)                         , \n",
        "                    \"weights\"         : ['uniform', 'distance']                  ,\n",
        "                    \"algorithm\"      : ['auto', 'ball_tree', 'kd_tree', 'brute'] , \n",
        "                    \"leaf_size\"      : [1,3 ]  }\n",
        "gsearch = GridSearchCV(model,param_grid = parameters,scoring='f1_macro',cv=10) \n",
        "gsearch.fit(X_train,y_train)\n",
        "print(gsearch.best_score_)\n",
        "print(gsearch.best_params_)\n"
      ],
      "execution_count": null,
      "outputs": [
        {
          "output_type": "stream",
          "text": [
            "0.7661588392551175\n",
            "{'algorithm': 'auto', 'leaf_size': 1, 'n_neighbors': 1, 'weights': 'uniform'}\n"
          ],
          "name": "stdout"
        }
      ]
    },
    {
      "cell_type": "markdown",
      "metadata": {
        "id": "J2Ua20PwD8I2"
      },
      "source": [
        "After test, the best k for accuracy seems to be k=1\r\n"
      ]
    },
    {
      "cell_type": "code",
      "metadata": {
        "id": "CLwZJf7uD8I3",
        "colab": {
          "base_uri": "https://localhost:8080/"
        },
        "outputId": "ad9c5ce0-5975-431c-8e14-a60458763b7c"
      },
      "source": [
        "tunedknn = gsearch.best_estimator_\n",
        "y_knn = tunedknn.predict(X_test)\n",
        "print(confusion_matrix(y_test,y_knn))\n",
        "print(classification_report(y_test,y_knn))"
      ],
      "execution_count": null,
      "outputs": [
        {
          "output_type": "stream",
          "text": [
            "[[1439    9    1    2   16]\n",
            " [  20   81    0    1    0]\n",
            " [   7    0    5    0    0]\n",
            " [   6    0    0   25    0]\n",
            " [  13    1    0    1   15]]\n",
            "              precision    recall  f1-score   support\n",
            "\n",
            "           1       0.97      0.98      0.97      1467\n",
            "           2       0.89      0.79      0.84       102\n",
            "           3       0.83      0.42      0.56        12\n",
            "           4       0.86      0.81      0.83        31\n",
            "           5       0.48      0.50      0.49        30\n",
            "\n",
            "    accuracy                           0.95      1642\n",
            "   macro avg       0.81      0.70      0.74      1642\n",
            "weighted avg       0.95      0.95      0.95      1642\n",
            "\n"
          ],
          "name": "stdout"
        }
      ]
    },
    {
      "cell_type": "code",
      "metadata": {
        "id": "bn7kvND0bD58"
      },
      "source": [
        "acc_knn = accuracy_score(y_test,y_knn)\r\n",
        "f1_knn = f1_score(y_test,y_knn,average='macro')\r\n",
        "print(acc_knn)\r\n",
        "print(f1_knn)"
      ],
      "execution_count": null,
      "outputs": []
    },
    {
      "cell_type": "markdown",
      "metadata": {
        "id": "6TZzW4Kyu2jP"
      },
      "source": [
        "Tuning does not seem significant here."
      ]
    },
    {
      "cell_type": "markdown",
      "metadata": {
        "id": "z0nZGueXK8Qm"
      },
      "source": [
        "## Decision Tree"
      ]
    },
    {
      "cell_type": "code",
      "metadata": {
        "colab": {
          "base_uri": "https://localhost:8080/"
        },
        "id": "UT2h4_WfD8I4",
        "outputId": "9bc5a017-cb2b-4190-ba6c-f60ee31ffb66"
      },
      "source": [
        "\n",
        "from sklearn.tree import DecisionTreeClassifier\n",
        "dt = DecisionTreeClassifier(random_state=12)\n",
        "dt.fit(X_train, y_train)\n",
        "y_p = dt.predict(X_test)\n",
        "print(classification_report(y_test,y_p))\n",
        "confusion_matrix(y_test,y_p)"
      ],
      "execution_count": null,
      "outputs": [
        {
          "output_type": "stream",
          "text": [
            "              precision    recall  f1-score   support\n",
            "\n",
            "           1       0.98      0.98      0.98      1467\n",
            "           2       0.88      0.81      0.85       102\n",
            "           3       0.71      0.83      0.77        12\n",
            "           4       0.79      0.87      0.83        31\n",
            "           5       0.49      0.60      0.54        30\n",
            "\n",
            "    accuracy                           0.96      1642\n",
            "   macro avg       0.77      0.82      0.79      1642\n",
            "weighted avg       0.96      0.96      0.96      1642\n",
            "\n"
          ],
          "name": "stdout"
        },
        {
          "output_type": "execute_result",
          "data": {
            "text/plain": [
              "array([[1435,   10,    3,    3,   16],\n",
              "       [  14,   83,    0,    2,    3],\n",
              "       [   2,    0,   10,    0,    0],\n",
              "       [   4,    0,    0,   27,    0],\n",
              "       [   8,    1,    1,    2,   18]])"
            ]
          },
          "metadata": {
            "tags": []
          },
          "execution_count": 337
        }
      ]
    },
    {
      "cell_type": "code",
      "metadata": {
        "colab": {
          "base_uri": "https://localhost:8080/"
        },
        "id": "apXeGbumKe4Z",
        "outputId": "3fca293c-43a0-40d0-9e11-d1160ec122e3"
      },
      "source": [
        "\r\n",
        "results = cross_validate(dt, X_train, y_train, cv=10,scoring=(\"accuracy\",\"f1_macro\"))\r\n",
        "#We choose f1_macro over micro because, if we chose micro, all classes would have be considered by its significance.\r\n",
        "#So we would have had good f1s but biaised by the fact that the great majority of elements are in class 1 and well predicted.\r\n",
        "print(results['test_accuracy'].mean())\r\n",
        "results['test_f1_macro'].mean()"
      ],
      "execution_count": null,
      "outputs": [
        {
          "output_type": "stream",
          "text": [
            "0.9616303579199303\n"
          ],
          "name": "stdout"
        },
        {
          "output_type": "execute_result",
          "data": {
            "text/plain": [
              "0.8096671697875781"
            ]
          },
          "metadata": {
            "tags": []
          },
          "execution_count": 338
        }
      ]
    },
    {
      "cell_type": "code",
      "metadata": {
        "id": "JY5CjYL_M1Bo"
      },
      "source": [
        "from sklearn.model_selection import GridSearchCV\r\n",
        "params = {\"criterion\":['gini','entropy'],\"max_depth\":range(1,5),\"min_samples_split\":range(1,5),\"min_samples_leaf\":range(1,5)}\r\n",
        "search = GridSearchCV(dt,param_grid=params,cv=10,n_jobs=-1,scoring='f1_macro') #10 folds cross validation\r\n"
      ],
      "execution_count": null,
      "outputs": []
    },
    {
      "cell_type": "code",
      "metadata": {
        "colab": {
          "base_uri": "https://localhost:8080/"
        },
        "id": "NZnYr865QO0i",
        "outputId": "430cc1f8-03bf-4eee-8232-7a6ab92a702a"
      },
      "source": [
        "search.fit(X_train,y_train)"
      ],
      "execution_count": null,
      "outputs": [
        {
          "output_type": "execute_result",
          "data": {
            "text/plain": [
              "GridSearchCV(cv=10, error_score=nan,\n",
              "             estimator=DecisionTreeClassifier(ccp_alpha=0.0, class_weight=None,\n",
              "                                              criterion='gini', max_depth=None,\n",
              "                                              max_features=None,\n",
              "                                              max_leaf_nodes=None,\n",
              "                                              min_impurity_decrease=0.0,\n",
              "                                              min_impurity_split=None,\n",
              "                                              min_samples_leaf=1,\n",
              "                                              min_samples_split=2,\n",
              "                                              min_weight_fraction_leaf=0.0,\n",
              "                                              presort='deprecated',\n",
              "                                              random_state=12,\n",
              "                                              splitter='best'),\n",
              "             iid='deprecated', n_jobs=-1,\n",
              "             param_grid={'criterion': ['gini', 'entropy'],\n",
              "                         'max_depth': range(1, 5),\n",
              "                         'min_samples_leaf': range(1, 5),\n",
              "                         'min_samples_split': range(1, 5)},\n",
              "             pre_dispatch='2*n_jobs', refit=True, return_train_score=False,\n",
              "             scoring='f1_macro', verbose=0)"
            ]
          },
          "metadata": {
            "tags": []
          },
          "execution_count": 340
        }
      ]
    },
    {
      "cell_type": "code",
      "metadata": {
        "colab": {
          "base_uri": "https://localhost:8080/"
        },
        "id": "X6CmiYC5RX5T",
        "outputId": "359035ba-0611-4189-c438-5ea32e965bc7"
      },
      "source": [
        "search.best_score_"
      ],
      "execution_count": null,
      "outputs": [
        {
          "output_type": "execute_result",
          "data": {
            "text/plain": [
              "0.8228698118508257"
            ]
          },
          "metadata": {
            "tags": []
          },
          "execution_count": 341
        }
      ]
    },
    {
      "cell_type": "code",
      "metadata": {
        "colab": {
          "base_uri": "https://localhost:8080/"
        },
        "id": "7pT8RBTaR9wU",
        "outputId": "22002f08-4fbe-4b43-97f5-6e5b4b8912d4"
      },
      "source": [
        "search.best_params_"
      ],
      "execution_count": null,
      "outputs": [
        {
          "output_type": "execute_result",
          "data": {
            "text/plain": [
              "{'criterion': 'entropy',\n",
              " 'max_depth': 4,\n",
              " 'min_samples_leaf': 1,\n",
              " 'min_samples_split': 2}"
            ]
          },
          "metadata": {
            "tags": []
          },
          "execution_count": 342
        }
      ]
    },
    {
      "cell_type": "code",
      "metadata": {
        "colab": {
          "base_uri": "https://localhost:8080/"
        },
        "id": "xB_jFWFnTq4O",
        "outputId": "9195adfe-0dd5-40f5-95ee-ad42a5b5922a"
      },
      "source": [
        "tuned_tree = search.best_estimator_\r\n",
        "y_tuned_tree = tuned_tree.predict(X_test)\r\n",
        "print(classification_report(y_test,y_tuned_tree))"
      ],
      "execution_count": null,
      "outputs": [
        {
          "output_type": "stream",
          "text": [
            "              precision    recall  f1-score   support\n",
            "\n",
            "           1       0.98      0.98      0.98      1467\n",
            "           2       0.92      0.85      0.88       102\n",
            "           3       0.57      1.00      0.73        12\n",
            "           4       0.90      0.87      0.89        31\n",
            "           5       0.77      0.57      0.65        30\n",
            "\n",
            "    accuracy                           0.97      1642\n",
            "   macro avg       0.83      0.85      0.83      1642\n",
            "weighted avg       0.97      0.97      0.97      1642\n",
            "\n"
          ],
          "name": "stdout"
        }
      ]
    },
    {
      "cell_type": "code",
      "metadata": {
        "colab": {
          "base_uri": "https://localhost:8080/"
        },
        "id": "pqeFBc-nUfCc",
        "outputId": "f94783f9-113f-4d6c-dc4d-19980217d974"
      },
      "source": [
        "confusion_matrix(y_test,y_tuned_tree)"
      ],
      "execution_count": null,
      "outputs": [
        {
          "output_type": "execute_result",
          "data": {
            "text/plain": [
              "array([[1444,    8,    9,    1,    5],\n",
              "       [  14,   87,    0,    1,    0],\n",
              "       [   0,    0,   12,    0,    0],\n",
              "       [   4,    0,    0,   27,    0],\n",
              "       [  12,    0,    0,    1,   17]])"
            ]
          },
          "metadata": {
            "tags": []
          },
          "execution_count": 344
        }
      ]
    },
    {
      "cell_type": "code",
      "metadata": {
        "id": "eR5Gvs6_b7EB"
      },
      "source": [
        "acc_tree = accuracy_score(y_test,y_tuned_tree)\r\n",
        "f1_tree = f1_score(y_test,y_tuned_tree,average='macro')\r\n",
        "print(acc_tree)\r\n",
        "print(f1_tree)"
      ],
      "execution_count": null,
      "outputs": []
    },
    {
      "cell_type": "markdown",
      "metadata": {
        "id": "HyKdn8w6UMWE"
      },
      "source": [
        "With the grid search, we get better values for f1 and the accuracy means, using the best parameters given.\r\n",
        "\r\n",
        "This is the best model we have had until here, so we try to ameliorate it.\r\n",
        "\r\n",
        "We can use:\r\n",
        "-Boosting algorithms\r\n",
        "-A random forest"
      ]
    },
    {
      "cell_type": "markdown",
      "metadata": {
        "id": "Waiv95y_Sn87"
      },
      "source": [
        "## Gradient Boost Classifier"
      ]
    },
    {
      "cell_type": "code",
      "metadata": {
        "id": "SCjly1THD8I4",
        "colab": {
          "base_uri": "https://localhost:8080/"
        },
        "outputId": "745f715d-2dbd-4936-9fe3-c9919fbf4d0f"
      },
      "source": [
        "#GradientBoostClassifier\n",
        "from sklearn.ensemble import GradientBoostingClassifier\n",
        "gbc = GradientBoostingClassifier(n_estimators=20,random_state=42)\n",
        "gbc.fit(X_train, y_train)\n",
        "y_gbc = gbc.predict(X_test)\n",
        "print(classification_report(y_test,y_gbc))\n",
        "confusion_matrix(y_test,y_gbc)\n"
      ],
      "execution_count": null,
      "outputs": [
        {
          "output_type": "stream",
          "text": [
            "              precision    recall  f1-score   support\n",
            "\n",
            "           1       0.98      0.99      0.99      1467\n",
            "           2       0.94      0.89      0.91       102\n",
            "           3       0.67      0.50      0.57        12\n",
            "           4       0.82      0.87      0.84        31\n",
            "           5       0.81      0.57      0.67        30\n",
            "\n",
            "    accuracy                           0.97      1642\n",
            "   macro avg       0.84      0.76      0.80      1642\n",
            "weighted avg       0.97      0.97      0.97      1642\n",
            "\n"
          ],
          "name": "stdout"
        },
        {
          "output_type": "execute_result",
          "data": {
            "text/plain": [
              "array([[1453,    6,    1,    3,    4],\n",
              "       [   9,   91,    0,    2,    0],\n",
              "       [   6,    0,    6,    0,    0],\n",
              "       [   4,    0,    0,   27,    0],\n",
              "       [  10,    0,    2,    1,   17]])"
            ]
          },
          "metadata": {
            "tags": []
          },
          "execution_count": 346
        }
      ]
    },
    {
      "cell_type": "code",
      "metadata": {
        "id": "z0t110SEDHGO",
        "colab": {
          "base_uri": "https://localhost:8080/"
        },
        "outputId": "7468795e-f99f-4489-8244-806fef0e5cc4"
      },
      "source": [
        "results = cross_validate(gbc, X_train, y_train, cv=10,scoring=(\"accuracy\",\"f1_macro\"))\r\n",
        "#We choose f1_macro over micro because, if we chose micro, all classes would have be considered by its significance.\r\n",
        "#So we would have had good f1s but biaised by the fact that the great majority of elements are in class 1 and well predicted.\r\n",
        "results['test_f1_macro'].mean()\r\n",
        "acc_gbc = results['test_accuracy'].mean()\r\n",
        "f1_gbc = results['test_f1_macro'].mean()\r\n",
        "print(acc_gbc)\r\n",
        "print(f1_gbc)"
      ],
      "execution_count": null,
      "outputs": [
        {
          "output_type": "stream",
          "text": [
            "0.971547269364665\n"
          ],
          "name": "stdout"
        }
      ]
    },
    {
      "cell_type": "markdown",
      "metadata": {
        "id": "Q0pE9F3yS0LO"
      },
      "source": [
        "## AdaBoost Classifier (Boost a decision tree classifier)"
      ]
    },
    {
      "cell_type": "code",
      "metadata": {
        "colab": {
          "base_uri": "https://localhost:8080/"
        },
        "id": "jnS6bqx5D8I3",
        "outputId": "6ac798e4-9a5e-4789-b200-ac46506c20b1"
      },
      "source": [
        "#AdaBoost is by default low accurate, but we use it to have a high accuracy on a base classifier\n",
        "from sklearn.ensemble import AdaBoostClassifier\n",
        "adaboost = AdaBoostClassifier(base_estimator=tuned_tree,random_state=12)\n",
        "adaboost.fit(X_train, y_train)\n",
        "y_ada = adaboost.predict(X_test)\n",
        "print(classification_report(y_test,y_ada))\n",
        "confusion_matrix(y_test,y_ada)"
      ],
      "execution_count": null,
      "outputs": [
        {
          "output_type": "stream",
          "text": [
            "              precision    recall  f1-score   support\n",
            "\n",
            "           1       0.98      0.99      0.98      1467\n",
            "           2       0.95      0.84      0.89       102\n",
            "           3       0.77      0.83      0.80        12\n",
            "           4       0.90      0.87      0.89        31\n",
            "           5       0.67      0.47      0.55        30\n",
            "\n",
            "    accuracy                           0.97      1642\n",
            "   macro avg       0.85      0.80      0.82      1642\n",
            "weighted avg       0.97      0.97      0.97      1642\n",
            "\n"
          ],
          "name": "stdout"
        },
        {
          "output_type": "execute_result",
          "data": {
            "text/plain": [
              "array([[1452,    5,    3,    1,    6],\n",
              "       [  14,   86,    0,    1,    1],\n",
              "       [   2,    0,   10,    0,    0],\n",
              "       [   4,    0,    0,   27,    0],\n",
              "       [  15,    0,    0,    1,   14]])"
            ]
          },
          "metadata": {
            "tags": []
          },
          "execution_count": 348
        }
      ]
    },
    {
      "cell_type": "code",
      "metadata": {
        "colab": {
          "base_uri": "https://localhost:8080/"
        },
        "id": "e4OfHoEYLVYK",
        "outputId": "2618bdef-ecb8-4c60-8c6a-78ffd00a2a49"
      },
      "source": [
        "results = cross_validate(adaboost, X_train, y_train, cv=10,scoring=(\"accuracy\",\"f1_macro\"))\r\n",
        "#We choose f1_macro over micro because, if we chose micro, all classes would have be considered by its significance.\r\n",
        "#So we would have had good f1s but biaised by the fact that the great majority of elements are in class 1 and well predicted.\r\n",
        "print(results['test_accuracy'].mean())\r\n",
        "results['test_f1_macro'].mean()"
      ],
      "execution_count": null,
      "outputs": [
        {
          "output_type": "stream",
          "text": [
            "0.9660662804612705\n"
          ],
          "name": "stdout"
        },
        {
          "output_type": "execute_result",
          "data": {
            "text/plain": [
              "0.8242923046783803"
            ]
          },
          "metadata": {
            "tags": []
          },
          "execution_count": 349
        }
      ]
    },
    {
      "cell_type": "code",
      "metadata": {
        "id": "UtzZHbNoyvpU"
      },
      "source": [
        "param_grid = {\"base_estimator__criterion\" : [\"gini\", \"entropy\"],\r\n",
        "              \"base_estimator__splitter\" :   [\"best\", \"random\"],\r\n",
        "              \"n_estimators\": [1, 2]\r\n",
        "             }\r\n",
        "gridsearch = GridSearchCV(adaboost, param_grid=param_grid, scoring = 'f1_macro',cv=10)"
      ],
      "execution_count": null,
      "outputs": []
    },
    {
      "cell_type": "code",
      "metadata": {
        "colab": {
          "base_uri": "https://localhost:8080/"
        },
        "id": "Gzo5X9H9zPm8",
        "outputId": "b87e9093-2bd8-4343-acc8-6a1121d87914"
      },
      "source": [
        "gridsearch.fit(X_train,y_train)"
      ],
      "execution_count": null,
      "outputs": [
        {
          "output_type": "execute_result",
          "data": {
            "text/plain": [
              "GridSearchCV(cv=10, error_score=nan,\n",
              "             estimator=AdaBoostClassifier(algorithm='SAMME.R',\n",
              "                                          base_estimator=DecisionTreeClassifier(ccp_alpha=0.0,\n",
              "                                                                                class_weight=None,\n",
              "                                                                                criterion='entropy',\n",
              "                                                                                max_depth=4,\n",
              "                                                                                max_features=None,\n",
              "                                                                                max_leaf_nodes=None,\n",
              "                                                                                min_impurity_decrease=0.0,\n",
              "                                                                                min_impurity_split=None,\n",
              "                                                                                min_samples_leaf=1,\n",
              "                                                                                min_samples_split=2,\n",
              "                                                                                min_weight_fraction_leaf=0.0,\n",
              "                                                                                presort='deprecated',\n",
              "                                                                                random_state=12,\n",
              "                                                                                splitter='best'),\n",
              "                                          learning_rate=1.0, n_estimators=50,\n",
              "                                          random_state=12),\n",
              "             iid='deprecated', n_jobs=None,\n",
              "             param_grid={'base_estimator__criterion': ['gini', 'entropy'],\n",
              "                         'base_estimator__splitter': ['best', 'random'],\n",
              "                         'n_estimators': [1, 2]},\n",
              "             pre_dispatch='2*n_jobs', refit=True, return_train_score=False,\n",
              "             scoring='f1_macro', verbose=0)"
            ]
          },
          "metadata": {
            "tags": []
          },
          "execution_count": 351
        }
      ]
    },
    {
      "cell_type": "code",
      "metadata": {
        "colab": {
          "base_uri": "https://localhost:8080/"
        },
        "id": "O6BJPPl9zENt",
        "outputId": "12040430-1bbd-405b-fa3f-d460a9d17e8d"
      },
      "source": [
        "gridsearch.best_params_"
      ],
      "execution_count": null,
      "outputs": [
        {
          "output_type": "execute_result",
          "data": {
            "text/plain": [
              "{'base_estimator__criterion': 'entropy',\n",
              " 'base_estimator__splitter': 'best',\n",
              " 'n_estimators': 1}"
            ]
          },
          "metadata": {
            "tags": []
          },
          "execution_count": 352
        }
      ]
    },
    {
      "cell_type": "code",
      "metadata": {
        "colab": {
          "base_uri": "https://localhost:8080/"
        },
        "id": "m0l55Ngp3TBp",
        "outputId": "0a6f0e57-b5b3-4da2-9ef6-fe28cda0335a"
      },
      "source": [
        "tuned_ada = gridsearch.best_estimator_\r\n",
        "y_tuned_ada = tuned_ada.predict(X_test)\r\n",
        "print(classification_report(y_test,y_tuned_ada))\r\n",
        "confusion_matrix(y_test,y_tuned_ada)"
      ],
      "execution_count": null,
      "outputs": [
        {
          "output_type": "stream",
          "text": [
            "              precision    recall  f1-score   support\n",
            "\n",
            "           1       0.98      0.99      0.98      1467\n",
            "           2       0.92      0.85      0.88       102\n",
            "           3       0.57      1.00      0.73        12\n",
            "           4       0.90      0.87      0.89        31\n",
            "           5       0.80      0.53      0.64        30\n",
            "\n",
            "    accuracy                           0.97      1642\n",
            "   macro avg       0.83      0.85      0.82      1642\n",
            "weighted avg       0.97      0.97      0.97      1642\n",
            "\n"
          ],
          "name": "stdout"
        },
        {
          "output_type": "execute_result",
          "data": {
            "text/plain": [
              "array([[1445,    8,    9,    1,    4],\n",
              "       [  14,   87,    0,    1,    0],\n",
              "       [   0,    0,   12,    0,    0],\n",
              "       [   4,    0,    0,   27,    0],\n",
              "       [  13,    0,    0,    1,   16]])"
            ]
          },
          "metadata": {
            "tags": []
          },
          "execution_count": 353
        }
      ]
    },
    {
      "cell_type": "code",
      "metadata": {
        "id": "ufN7fZe5inTr"
      },
      "source": [
        "acc_ada = accuracy_score(y_test,y_tuned_ada)\r\n",
        "f1_ada = f1_score(y_test,y_tuned_ada,average='macro')\r\n",
        "print(acc_ada)\r\n",
        "print(f1_ada)"
      ],
      "execution_count": null,
      "outputs": []
    },
    {
      "cell_type": "markdown",
      "metadata": {
        "id": "hoaXropVLEKl"
      },
      "source": [
        "## Random Forest"
      ]
    },
    {
      "cell_type": "code",
      "metadata": {
        "id": "zWMipoJWD8I4",
        "colab": {
          "base_uri": "https://localhost:8080/"
        },
        "outputId": "e5a80022-304a-4808-a100-3b95276beff9"
      },
      "source": [
        "\n",
        "from sklearn.ensemble import RandomForestClassifier \n",
        "rfc = RandomForestClassifier(random_state=42,n_estimators=20) #we try with 20 trees\n",
        "rfc.fit(X_train, y_train)\n",
        "y_rfc = rfc.predict(X_test)\n",
        "print(classification_report(y_test,y_rfc))\n",
        "confusion_matrix(y_test,y_rfc)\n"
      ],
      "execution_count": 13,
      "outputs": [
        {
          "output_type": "stream",
          "name": "stdout",
          "text": [
            "              precision    recall  f1-score   support\n\n           1       0.98      0.99      0.99      1467\n           2       0.97      0.84      0.90       102\n           3       0.75      0.50      0.60        12\n           4       0.82      0.87      0.84        31\n           5       0.64      0.70      0.67        30\n\n    accuracy                           0.97      1642\n   macro avg       0.83      0.78      0.80      1642\nweighted avg       0.97      0.97      0.97      1642\n\n"
          ]
        },
        {
          "output_type": "execute_result",
          "data": {
            "text/plain": [
              "array([[1451,    3,    2,    3,    8],\n",
              "       [  13,   86,    0,    2,    1],\n",
              "       [   4,    0,    6,    0,    2],\n",
              "       [   3,    0,    0,   27,    1],\n",
              "       [   8,    0,    0,    1,   21]], dtype=int64)"
            ]
          },
          "metadata": {},
          "execution_count": 13
        }
      ]
    },
    {
      "cell_type": "code",
      "metadata": {
        "colab": {
          "base_uri": "https://localhost:8080/"
        },
        "id": "hAyISaWpLGXA",
        "outputId": "8b806d44-c328-4bd0-d2b1-40d57731d919"
      },
      "source": [
        "results = cross_validate(rfc, X_train, y_train, cv=10,scoring=(\"accuracy\",\"f1_macro\"))\r\n",
        "#We choose f1_macro over micro because, if we chose micro, all classes would have be considered by its significance.\r\n",
        "#So we would have had good f1s but biaised by the fact that the great majority of elements are in class 1 and well predicted.\r\n",
        "print(results['test_accuracy'].mean())\r\n",
        "results['test_f1_macro'].mean()"
      ],
      "execution_count": 14,
      "outputs": [
        {
          "output_type": "stream",
          "name": "stdout",
          "text": [
            "0.9723291993037423\n"
          ]
        },
        {
          "output_type": "execute_result",
          "data": {
            "text/plain": [
              "0.8607532219685388"
            ]
          },
          "metadata": {},
          "execution_count": 14
        }
      ]
    },
    {
      "cell_type": "code",
      "metadata": {
        "colab": {
          "base_uri": "https://localhost:8080/"
        },
        "id": "ZXWmhRJP5BRz",
        "outputId": "635e0f8e-6642-4f11-ed33-58b0a76945f4"
      },
      "source": [
        "param_grid = { \r\n",
        "    'n_estimators': [20,50],\r\n",
        "    'max_features': ['auto', 'sqrt', 'log2'],\r\n",
        "    'max_depth' : [4,5,6,7,8],\r\n",
        "    'criterion' :['gini', 'entropy']\r\n",
        "}\r\n",
        "search_rf = GridSearchCV(rfc,param_grid=param_grid,scoring='f1_macro')\r\n",
        "search_rf.fit(X_train,y_train)"
      ],
      "execution_count": 15,
      "outputs": [
        {
          "output_type": "execute_result",
          "data": {
            "text/plain": [
              "GridSearchCV(estimator=RandomForestClassifier(n_estimators=20, random_state=42),\n",
              "             param_grid={'criterion': ['gini', 'entropy'],\n",
              "                         'max_depth': [4, 5, 6, 7, 8],\n",
              "                         'max_features': ['auto', 'sqrt', 'log2'],\n",
              "                         'n_estimators': [20, 50]},\n",
              "             scoring='f1_macro')"
            ]
          },
          "metadata": {},
          "execution_count": 15
        }
      ]
    },
    {
      "cell_type": "code",
      "metadata": {
        "colab": {
          "base_uri": "https://localhost:8080/"
        },
        "id": "4ghxkNPv7L8p",
        "outputId": "69b01990-707e-49c4-d622-9d0f181b44d3"
      },
      "source": [
        "search_rf.best_params_"
      ],
      "execution_count": 16,
      "outputs": [
        {
          "output_type": "execute_result",
          "data": {
            "text/plain": [
              "{'criterion': 'entropy',\n",
              " 'max_depth': 8,\n",
              " 'max_features': 'auto',\n",
              " 'n_estimators': 50}"
            ]
          },
          "metadata": {},
          "execution_count": 16
        }
      ]
    },
    {
      "cell_type": "code",
      "metadata": {
        "colab": {
          "base_uri": "https://localhost:8080/"
        },
        "id": "Y0Vit5Lj7QVy",
        "outputId": "5538a3ea-23b7-4673-9998-335f74a5a3a0"
      },
      "source": [
        "tuned_rf = search_rf.best_estimator_\r\n",
        "y_tuned_rf = tuned_rf.predict(X_test)\r\n",
        "print(classification_report(y_test,y_tuned_rf))\r\n",
        "confusion_matrix(y_test,y_tuned_rf)"
      ],
      "execution_count": 17,
      "outputs": [
        {
          "output_type": "stream",
          "name": "stdout",
          "text": [
            "              precision    recall  f1-score   support\n\n           1       0.98      0.99      0.99      1467\n           2       0.93      0.89      0.91       102\n           3       0.89      0.67      0.76        12\n           4       0.82      0.90      0.86        31\n           5       0.86      0.60      0.71        30\n\n    accuracy                           0.97      1642\n   macro avg       0.90      0.81      0.85      1642\nweighted avg       0.97      0.97      0.97      1642\n\n"
          ]
        },
        {
          "output_type": "execute_result",
          "data": {
            "text/plain": [
              "array([[1454,    6,    1,    3,    3],\n",
              "       [   9,   91,    0,    2,    0],\n",
              "       [   4,    0,    8,    0,    0],\n",
              "       [   3,    0,    0,   28,    0],\n",
              "       [  10,    1,    0,    1,   18]], dtype=int64)"
            ]
          },
          "metadata": {},
          "execution_count": 17
        }
      ]
    },
    {
      "cell_type": "code",
      "metadata": {
        "id": "BgbzBgt5jvvF"
      },
      "source": [
        "acc_rf = accuracy_score(y_test,y_tuned_rf)\r\n",
        "f1_rf = f1_score(y_test,y_tuned_rf,average='macro')\r\n",
        "print(acc_rf)\r\n",
        "print(f1_rf)"
      ],
      "execution_count": 18,
      "outputs": [
        {
          "output_type": "stream",
          "name": "stdout",
          "text": [
            "0.9738124238733252\n0.8452183558605244\n"
          ]
        }
      ]
    },
    {
      "cell_type": "markdown",
      "metadata": {
        "id": "W75EIqVIj4JC"
      },
      "source": [
        "We finally consider the random forest with 50 trees, a depth max of 8 and entropy as criterion as our best model"
      ]
    },
    {
      "cell_type": "code",
      "execution_count": 19,
      "metadata": {},
      "outputs": [],
      "source": [
        "import pickle\n",
        "filename = 'random_forest'\n",
        "outfile = open(filename,'wb')\n",
        "pickle.dump(tuned_rf,outfile)\n",
        "outfile.close()"
      ]
    },
    {
      "source": [
        "Here we serialize our model into the 'random_forest' file"
      ],
      "cell_type": "markdown",
      "metadata": {}
    },
    {
      "cell_type": "code",
      "execution_count": 20,
      "metadata": {},
      "outputs": [
        {
          "output_type": "stream",
          "name": "stdout",
          "text": [
            "<class 'sklearn.ensemble._forest.RandomForestClassifier'>\n"
          ]
        }
      ],
      "source": [
        "infile = open('random_forest','rb')\n",
        "newmodel = pickle.load(infile)\n",
        "print(type(newmodel))\n",
        "infile.close()"
      ]
    },
    {
      "cell_type": "markdown",
      "metadata": {
        "id": "wm64u-90M_u9"
      },
      "source": [
        "# Performances based on accuracy and f1 score"
      ]
    },
    {
      "cell_type": "code",
      "metadata": {
        "colab": {
          "base_uri": "https://localhost:8080/",
          "height": 254
        },
        "id": "uqye11o7kQ5L",
        "outputId": "87c04793-9c1c-4157-9aac-ffec2f5b50e0"
      },
      "source": [
        "data = {'LDA':[acc_lda,f1_lda],'QDA':[acc_qda,f1_qda],'KNN':[acc_knn,f1_knn],'Decision Tree':[acc_tree,f1_tree],\r\n",
        "        'GBC':[acc_gbc,f1_gbc],'AdaBoost':[acc_ada,f1_ada],'RF':[acc_rf,f1_rf]}\r\n",
        "\r\n",
        "performances = pd.DataFrame.from_dict(data,orient='index',columns=['accuracy','f1_score'])\r\n",
        "performances\r\n"
      ],
      "execution_count": null,
      "outputs": [
        {
          "output_type": "execute_result",
          "data": {
            "text/html": [
              "<div>\n",
              "<style scoped>\n",
              "    .dataframe tbody tr th:only-of-type {\n",
              "        vertical-align: middle;\n",
              "    }\n",
              "\n",
              "    .dataframe tbody tr th {\n",
              "        vertical-align: top;\n",
              "    }\n",
              "\n",
              "    .dataframe thead th {\n",
              "        text-align: right;\n",
              "    }\n",
              "</style>\n",
              "<table border=\"1\" class=\"dataframe\">\n",
              "  <thead>\n",
              "    <tr style=\"text-align: right;\">\n",
              "      <th></th>\n",
              "      <th>accuracy</th>\n",
              "      <th>f1_score</th>\n",
              "    </tr>\n",
              "  </thead>\n",
              "  <tbody>\n",
              "    <tr>\n",
              "      <th>LDA</th>\n",
              "      <td>0.946407</td>\n",
              "      <td>0.732954</td>\n",
              "    </tr>\n",
              "    <tr>\n",
              "      <th>QDA</th>\n",
              "      <td>0.939708</td>\n",
              "      <td>0.700745</td>\n",
              "    </tr>\n",
              "    <tr>\n",
              "      <th>KNN</th>\n",
              "      <td>0.953106</td>\n",
              "      <td>0.739001</td>\n",
              "    </tr>\n",
              "    <tr>\n",
              "      <th>Decision Tree</th>\n",
              "      <td>0.966504</td>\n",
              "      <td>0.826318</td>\n",
              "    </tr>\n",
              "    <tr>\n",
              "      <th>GBC</th>\n",
              "      <td>0.971547</td>\n",
              "      <td>0.844211</td>\n",
              "    </tr>\n",
              "    <tr>\n",
              "      <th>AdaBoost</th>\n",
              "      <td>0.966504</td>\n",
              "      <td>0.823552</td>\n",
              "    </tr>\n",
              "    <tr>\n",
              "      <th>RF</th>\n",
              "      <td>0.973812</td>\n",
              "      <td>0.845218</td>\n",
              "    </tr>\n",
              "  </tbody>\n",
              "</table>\n",
              "</div>"
            ],
            "text/plain": [
              "               accuracy  f1_score\n",
              "LDA            0.946407  0.732954\n",
              "QDA            0.939708  0.700745\n",
              "KNN            0.953106  0.739001\n",
              "Decision Tree  0.966504  0.826318\n",
              "GBC            0.971547  0.844211\n",
              "AdaBoost       0.966504  0.823552\n",
              "RF             0.973812  0.845218"
            ]
          },
          "metadata": {
            "tags": []
          },
          "execution_count": 362
        }
      ]
    },
    {
      "cell_type": "code",
      "metadata": {
        "id": "1ESiCOcH2Yr_"
      },
      "source": [
        "%matplotlib inline\r\n",
        "import matplotlib.pyplot as plt"
      ],
      "execution_count": 365,
      "outputs": []
    },
    {
      "cell_type": "code",
      "metadata": {
        "id": "rBfT_yeYrM7Z",
        "colab": {
          "base_uri": "https://localhost:8080/",
          "height": 254
        },
        "outputId": "00edecbe-a6bc-45ae-ec59-884b6bcfa6e6"
      },
      "source": [
        "performances = performances.sort_values(by=['accuracy','f1_score'])\r\n",
        "performances"
      ],
      "execution_count": 373,
      "outputs": [
        {
          "output_type": "execute_result",
          "data": {
            "text/html": [
              "<div>\n",
              "<style scoped>\n",
              "    .dataframe tbody tr th:only-of-type {\n",
              "        vertical-align: middle;\n",
              "    }\n",
              "\n",
              "    .dataframe tbody tr th {\n",
              "        vertical-align: top;\n",
              "    }\n",
              "\n",
              "    .dataframe thead th {\n",
              "        text-align: right;\n",
              "    }\n",
              "</style>\n",
              "<table border=\"1\" class=\"dataframe\">\n",
              "  <thead>\n",
              "    <tr style=\"text-align: right;\">\n",
              "      <th></th>\n",
              "      <th>accuracy</th>\n",
              "      <th>f1_score</th>\n",
              "    </tr>\n",
              "  </thead>\n",
              "  <tbody>\n",
              "    <tr>\n",
              "      <th>QDA</th>\n",
              "      <td>0.939708</td>\n",
              "      <td>0.700745</td>\n",
              "    </tr>\n",
              "    <tr>\n",
              "      <th>LDA</th>\n",
              "      <td>0.946407</td>\n",
              "      <td>0.732954</td>\n",
              "    </tr>\n",
              "    <tr>\n",
              "      <th>KNN</th>\n",
              "      <td>0.953106</td>\n",
              "      <td>0.739001</td>\n",
              "    </tr>\n",
              "    <tr>\n",
              "      <th>AdaBoost</th>\n",
              "      <td>0.966504</td>\n",
              "      <td>0.823552</td>\n",
              "    </tr>\n",
              "    <tr>\n",
              "      <th>Decision Tree</th>\n",
              "      <td>0.966504</td>\n",
              "      <td>0.826318</td>\n",
              "    </tr>\n",
              "    <tr>\n",
              "      <th>GBC</th>\n",
              "      <td>0.971547</td>\n",
              "      <td>0.844211</td>\n",
              "    </tr>\n",
              "    <tr>\n",
              "      <th>RF</th>\n",
              "      <td>0.973812</td>\n",
              "      <td>0.845218</td>\n",
              "    </tr>\n",
              "  </tbody>\n",
              "</table>\n",
              "</div>"
            ],
            "text/plain": [
              "               accuracy  f1_score\n",
              "QDA            0.939708  0.700745\n",
              "LDA            0.946407  0.732954\n",
              "KNN            0.953106  0.739001\n",
              "AdaBoost       0.966504  0.823552\n",
              "Decision Tree  0.966504  0.826318\n",
              "GBC            0.971547  0.844211\n",
              "RF             0.973812  0.845218"
            ]
          },
          "metadata": {
            "tags": []
          },
          "execution_count": 373
        }
      ]
    },
    {
      "cell_type": "code",
      "metadata": {
        "colab": {
          "base_uri": "https://localhost:8080/",
          "height": 265
        },
        "id": "5qzq1JMm2qeG",
        "outputId": "1a56c797-3b70-419a-a146-bb353bee2b52"
      },
      "source": [
        "ax = performances.plot()"
      ],
      "execution_count": 374,
      "outputs": [
        {
          "output_type": "display_data",
          "data": {
            "image/png": "[encoded data removed]",
            "text/plain": [
              "<Figure size 432x288 with 1 Axes>"
            ]
          },
          "metadata": {
            "tags": [],
            "needs_background": "light"
          }
        }
      ]
    },
    {
      "cell_type": "markdown",
      "metadata": {
        "id": "zHWf9KXP39-b"
      },
      "source": [
        "We clearly see here that the random forest model has the best accuracy and f1 score, that is why we choose it for our API."
      ]
    },
    {
      "cell_type": "code",
      "metadata": {
        "id": "PPEapQfg39DQ"
      },
      "source": [],
      "execution_count": null,
      "outputs": []
    },
    {
      "cell_type": "code",
      "metadata": {
        "id": "MkNhTdreD8I4",
        "colab": {
          "base_uri": "https://localhost:8080/",
          "height": 265
        },
        "outputId": "2e14e987-300b-40bd-85c9-3f026a9696d7"
      },
      "source": [
        "#Feature Importance from the best algorithm randomforestclassifier\n",
        "feature_importances = pd.Series(rfc.feature_importances_, index=X.columns)\n",
        "feature_importances.nlargest(16).plot(kind=\"barh\")\n",
        "plt.show()"
      ],
      "execution_count": 363,
      "outputs": [
        {
          "output_type": "display_data",
          "data": {
            "image/png": "[encoded data removed]",
            "text/plain": [
              "<Figure size 432x288 with 1 Axes>"
            ]
          },
          "metadata": {
            "tags": [],
            "needs_background": "light"
          }
        }
      ]
    },
    {
      "cell_type": "markdown",
      "metadata": {
        "id": "tuDTfBJoD8I5"
      },
      "source": [
        "From the RandomForestClassifier we can see that the most important factors to determine the target variable are the height and the eccentricity"
      ]
    },
    {
      "cell_type": "code",
      "metadata": {
        "id": "u6L2-qvBD8I5"
      },
      "source": [],
      "execution_count": null,
      "outputs": []
    }
  ]
}